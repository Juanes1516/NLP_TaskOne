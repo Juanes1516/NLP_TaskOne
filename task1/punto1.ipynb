{
 "cells": [
  {
   "cell_type": "code",
   "execution_count": 1,
   "metadata": {},
   "outputs": [],
   "source": [
    "import numpy as np\n",
    "# [10p] Implemente las siguientes métricas de evaluación de IR usando python+numpy (debe usar numpy):"
   ]
  },
  {
   "cell_type": "markdown",
   "metadata": {},
   "source": [
    "Tarea 1 – ISIS 4221: Procesamiento de Lenguaje Natural"
   ]
  },
  {
   "cell_type": "markdown",
   "metadata": {},
   "source": [
    "PUNTO 1"
   ]
  },
  {
   "cell_type": "markdown",
   "metadata": {},
   "source": [
    "1. Precision\n",
    "Descripción: Calcula la precisión de una consulta dada una lista binaria de relevancia."
   ]
  },
  {
   "cell_type": "code",
   "execution_count": 2,
   "metadata": {},
   "outputs": [
    {
     "name": "stdout",
     "output_type": "stream",
     "text": [
      "0.25\n"
     ]
    }
   ],
   "source": [
    "# [1p] Precision (la relevancia es binaria)\n",
    "# >>> relevance_query_1 = [0, 0, 0, 1]\n",
    "# >>> precision(relevance_query_1)\n",
    "# 0.25\n",
    "relevance_query_1 = [0,0,0,1]\n",
    "def precision(query: list) -> float: \n",
    "    \"\"\"\n",
    "    Calcula la precisión para una consulta dada una lista binaria de relevancia.\n",
    "    \n",
    "    :param relevance: Lista binaria de relevancia.\n",
    "    :return: Valor de precisión.\n",
    "    \"\"\"\n",
    "    return np.mean(query)\n",
    "\n",
    "r = precision(relevance_query_1)\n",
    "print(r)"
   ]
  },
  {
   "cell_type": "markdown",
   "metadata": {},
   "source": [
    "2. Precision at K\n",
    "Descripción: Calcula la precisión en la posición K para una consulta dada una lista binaria de relevancia."
   ]
  },
  {
   "cell_type": "code",
   "execution_count": 3,
   "metadata": {},
   "outputs": [
    {
     "name": "stdout",
     "output_type": "stream",
     "text": [
      "0.0\n"
     ]
    }
   ],
   "source": [
    "# [1p] Precision at K (la relevancia es binaria)\n",
    "# >>> relevance_query_1 = [0, 0, 0, 1]\n",
    "# >>> k = 1\n",
    "# >>> precision_at_k(relevance_query_1, k)\n",
    "# 0\n",
    "def precision_at_k(query: list,k: int) -> float:\n",
    "    \"\"\"\n",
    "    Calcula la precisión en la posición K para una consulta dada una lista binaria de relevancia.\n",
    "    \n",
    "    :param relevance: Lista binaria de relevancia.\n",
    "    :param k: Posición K.\n",
    "    :return: Valor de precisión en la posición K.\n",
    "    \"\"\"\n",
    "    cut_k = query[:k]\n",
    "    return np.mean(cut_k)\n",
    "\n",
    "\n",
    "r = precision_at_k(relevance_query_1,1)\n",
    "print(r)"
   ]
  },
  {
   "cell_type": "markdown",
   "metadata": {},
   "source": [
    "3. Recall at K\n",
    "Descripción: Calcula el recall en la posición K para una consulta dada una lista binaria de relevancia y el número total de documentos relevantes."
   ]
  },
  {
   "cell_type": "code",
   "execution_count": 4,
   "metadata": {},
   "outputs": [
    {
     "name": "stdout",
     "output_type": "stream",
     "text": [
      "0.0\n"
     ]
    }
   ],
   "source": [
    "# [1p] Recall at K (la relevancia es binaria)\n",
    "# >>> relevance_query_1 = [0, 0, 0, 1]\n",
    "# >>> k = 1\n",
    "# >>> number_relevant_docs = 4\n",
    "# >>> recall_at_k(relevance_query_1, number_relevant_docs, k)\n",
    "# 0\n",
    "def recall_at_k(query: list, num_relevant_docs:int, k:int)-> float:\n",
    "    \"\"\"\n",
    "    Calcula el recall en la posición K para una consulta dada una lista binaria de relevancia.\n",
    "    \n",
    "    :param relevance: Lista binaria de relevancia.\n",
    "    :param number_relevant_docs: Número total de documentos relevantes.\n",
    "    :param k: Posición K.\n",
    "    :return: Valor de recall en la posición K.\n",
    "    \"\"\" \n",
    "    cut_k = query[:k]\n",
    "    return np.sum(cut_k)/num_relevant_docs\n",
    "\n",
    "relevance_query_1 = [0, 0, 0, 1]\n",
    "r = recall_at_k(relevance_query_1,4,1)\n",
    "print(r)"
   ]
  },
  {
   "cell_type": "markdown",
   "metadata": {},
   "source": [
    "4. Average Precision\n",
    "Descripción: Calcula la precisión promedio para una consulta dada una lista binaria de relevancia."
   ]
  },
  {
   "cell_type": "code",
   "execution_count": 5,
   "metadata": {},
   "outputs": [
    {
     "name": "stdout",
     "output_type": "stream",
     "text": [
      "0.5961904761904762\n"
     ]
    }
   ],
   "source": [
    "# [1p] Average precision (la relevancia es binaria)\n",
    "# o Suponga que el vector binario de entrada contiene todos los documentos relevantes.\n",
    "# >>> relevance_query_2 = [0,1,0,1,1,1,1] \n",
    "# >>> average_precision(relevance_query_2)\n",
    "#  0.5961904\n",
    "def average_precision(relevance_query: list[int])->float: \n",
    "    \"\"\"\n",
    "    Calcula la precisión promedio para una consulta dada una lista binaria de relevancia.\n",
    "    \n",
    "    :param relevance: Lista binaria de relevancia.\n",
    "    :return: Valor de precisión promedio.\n",
    "    \"\"\"\n",
    "    num_doc_relevantes = np.sum(relevance_query)\n",
    "    k = 1\n",
    "    list_precision_at_k = []\n",
    "    recall_0  = 0\n",
    "    for _ in range(len(relevance_query)):\n",
    "        recall_1 = recall_at_k(relevance_query,num_doc_relevantes,k)\n",
    "        if recall_0 < recall_1:\n",
    "            list_precision_at_k.append(precision_at_k(relevance_query,k))\n",
    "            recall_0 = recall_1\n",
    "        if recall_1 == 1:\n",
    "            return np.mean(list_precision_at_k)\n",
    "        k+=1 \n",
    "    return\n",
    "\n",
    "relevance_query_2 = [0,1,0,1,1,1,1]\n",
    "r = average_precision(relevance_query_2)\n",
    "print(r)"
   ]
  },
  {
   "cell_type": "code",
   "execution_count": 6,
   "metadata": {},
   "outputs": [
    {
     "name": "stdout",
     "output_type": "stream",
     "text": [
      "0.39999999999999997\n"
     ]
    }
   ],
   "source": [
    "# [2p] Mean average precision -MAP- (la relevancia es binaria)\n",
    "# o Entrada: una lista de vectores binarios, cada uno representa un vector de resultado de la consulta.\n",
    "\n",
    "set_query = [\n",
    "    [1,0,0,1],\n",
    "    [1,0,0,1],\n",
    "    [0,0,0,1,0]\n",
    "    ]\n",
    "def MAP(setquerys: list[list[int]]):\n",
    "    return np.mean([precision(query) for query in setquerys])\n",
    "\n",
    "print(MAP(set_query))"
   ]
  },
  {
   "cell_type": "markdown",
   "metadata": {},
   "source": [
    "6. DCG at K\n",
    "Descripción: Calcula el Discounted Cumulative Gain en la posición K para una consulta dada una lista de relevancias numéricas."
   ]
  },
  {
   "cell_type": "code",
   "execution_count": 7,
   "metadata": {},
   "outputs": [
    {
     "name": "stdout",
     "output_type": "stream",
     "text": [
      "10.279642067948913\n"
     ]
    }
   ],
   "source": [
    "# [2p] DCG at K (la relevancia es un número natural)\n",
    "# >>>relevance_query_3 = [4, 4, 3, 0, 0, 1, 3, 3, 3, 0]\n",
    "# >>>k = 6\n",
    "# >>>dcg_at_k(relevance_query_3, k) \n",
    "# 10.27964\n",
    "import math\n",
    "\n",
    "def dcg_at_k(relevancequery,k):\n",
    "    \"\"\"\n",
    "    Calcula el Discounted Cumulative Gain en la posición K para una consulta dada una lista de relevancias numéricas.\n",
    "    \n",
    "    :param relevance: Lista de relevancias numéricas.\n",
    "    :param k: Posición K.\n",
    "    :return: Valor de DCG en la posición K.\n",
    "    \"\"\"\n",
    "    cut_k = relevancequery[:k]\n",
    "    return np.sum([relevance/math.log(max(i+1,2),2) for i,relevance in enumerate(cut_k)])\n",
    "\n",
    "\n",
    "relevance_query_3 = [4, 4, 3, 0, 0, 1, 3, 3, 3, 0]\n",
    "k = 6\n",
    "print(dcg_at_k(relevance_query_3, k)) "
   ]
  },
  {
   "cell_type": "markdown",
   "metadata": {},
   "source": [
    "7. NDCG at K\n",
    "Descripción: Calcula el Normalized Discounted Cumulative Gain en la posición K para una consulta dada una lista de relevancias numéricas."
   ]
  },
  {
   "cell_type": "code",
   "execution_count": 8,
   "metadata": {},
   "outputs": [
    {
     "name": "stdout",
     "output_type": "stream",
     "text": [
      "0.7424602308163404\n"
     ]
    }
   ],
   "source": [
    "# [2p] NDCG at K (la relevancia es un número natural)\n",
    "# >>>relevance_query_3 = [4, 4, 3, 0, 0, 1, 3, 3, 3, 0]\n",
    "# >>>k = 6\n",
    "# >>>ndcg_at_k(relevance_query_3, k)\n",
    "# 0.7424\n",
    "\n",
    "def ndcg_at_k(relevance_query, k):\n",
    "    \"\"\"\n",
    "    Calcula el Normalized Discounted Cumulative Gain en la posición K para una consulta dada una lista de relevancias numéricas.\n",
    "    \n",
    "    :param relevance: Lista de relevancias numéricas.\n",
    "    :param k: Posición K.\n",
    "    :return: Valor de NDCG en la posición K.\n",
    "    \"\"\"\n",
    "\n",
    "    cut_k = relevance_query[:k]\n",
    "    relevance_query.sort(reverse=True)\n",
    "    cut_k2 = relevance_query[:k]\n",
    "    return (\n",
    "        np.sum([relevance/math.log(max(i+1,2),2) for i,relevance in enumerate(cut_k)])/np.sum([relevance/math.log(max(i+1,2),2) for i,relevance in enumerate(cut_k2)])\n",
    "    )\n",
    "\n",
    "relevance_query_3 = [4, 4, 3, 0, 0, 1, 3, 3, 3, 0]\n",
    "k = 6\n",
    "print(ndcg_at_k(relevance_query_3, k))"
   ]
  }
 ],
 "metadata": {
  "kernelspec": {
   "display_name": "Python 3",
   "language": "python",
   "name": "python3"
  },
  "language_info": {
   "codemirror_mode": {
    "name": "ipython",
    "version": 3
   },
   "file_extension": ".py",
   "mimetype": "text/x-python",
   "name": "python",
   "nbconvert_exporter": "python",
   "pygments_lexer": "ipython3",
   "version": "3.12.3"
  }
 },
 "nbformat": 4,
 "nbformat_minor": 2
}
