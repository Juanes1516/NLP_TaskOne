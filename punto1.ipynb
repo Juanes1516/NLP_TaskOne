{
 "cells": [
  {
   "cell_type": "markdown",
   "metadata": {},
   "source": [
    "Tarea 1 – ISIS 4221: Procesamiento de Lenguaje Natural"
   ]
  },
  {
   "cell_type": "markdown",
   "metadata": {},
   "source": [
    "PUNTO 1"
   ]
  },
  {
   "cell_type": "markdown",
   "metadata": {},
   "source": [
    "1. Precision\n",
    "Descripción: Calcula la precisión de una consulta dada una lista binaria de relevancia."
   ]
  },
  {
   "cell_type": "code",
   "execution_count": null,
   "metadata": {},
   "outputs": [],
   "source": [
    "def precision(relevance):\n",
    "    \"\"\"\n",
    "    Calcula la precisión para una consulta dada una lista binaria de relevancia.\n",
    "    \n",
    "    :param relevance: Lista binaria de relevancia.\n",
    "    :return: Valor de precisión.\n",
    "    \"\"\"\n",
    "    # TO DO"
   ]
  },
  {
   "cell_type": "markdown",
   "metadata": {},
   "source": [
    "2. Precision at K\n",
    "Descripción: Calcula la precisión en la posición K para una consulta dada una lista binaria de relevancia."
   ]
  },
  {
   "cell_type": "code",
   "execution_count": null,
   "metadata": {},
   "outputs": [],
   "source": [
    "def precision_at_k(relevance, k):\n",
    "    \"\"\"\n",
    "    Calcula la precisión en la posición K para una consulta dada una lista binaria de relevancia.\n",
    "    \n",
    "    :param relevance: Lista binaria de relevancia.\n",
    "    :param k: Posición K.\n",
    "    :return: Valor de precisión en la posición K.\n",
    "    \"\"\"\n",
    "\n",
    "    # To DO"
   ]
  },
  {
   "cell_type": "markdown",
   "metadata": {},
   "source": [
    "3. Recall at K\n",
    "Descripción: Calcula el recall en la posición K para una consulta dada una lista binaria de relevancia y el número total de documentos relevantes."
   ]
  },
  {
   "cell_type": "code",
   "execution_count": null,
   "metadata": {},
   "outputs": [],
   "source": [
    "def recall_at_k(relevance, number_relevant_docs, k):\n",
    "    \"\"\"\n",
    "    Calcula el recall en la posición K para una consulta dada una lista binaria de relevancia.\n",
    "    \n",
    "    :param relevance: Lista binaria de relevancia.\n",
    "    :param number_relevant_docs: Número total de documentos relevantes.\n",
    "    :param k: Posición K.\n",
    "    :return: Valor de recall en la posición K.\n",
    "    \"\"\"\n",
    "    # TO DO"
   ]
  },
  {
   "cell_type": "markdown",
   "metadata": {},
   "source": [
    "4. Average Precision\n",
    "Descripción: Calcula la precisión promedio para una consulta dada una lista binaria de relevancia."
   ]
  },
  {
   "cell_type": "code",
   "execution_count": null,
   "metadata": {},
   "outputs": [],
   "source": [
    "def average_precision(relevance):\n",
    "    \"\"\"\n",
    "    Calcula la precisión promedio para una consulta dada una lista binaria de relevancia.\n",
    "    \n",
    "    :param relevance: Lista binaria de relevancia.\n",
    "    :return: Valor de precisión promedio.\n",
    "    \"\"\"\n",
    "    # TO DO"
   ]
  },
  {
   "cell_type": "markdown",
   "metadata": {},
   "source": [
    "6. DCG at K\n",
    "Descripción: Calcula el Discounted Cumulative Gain en la posición K para una consulta dada una lista de relevancias numéricas."
   ]
  },
  {
   "cell_type": "code",
   "execution_count": null,
   "metadata": {},
   "outputs": [],
   "source": [
    "def dcg_at_k(relevance, k):\n",
    "    \"\"\"\n",
    "    Calcula el Discounted Cumulative Gain en la posición K para una consulta dada una lista de relevancias numéricas.\n",
    "    \n",
    "    :param relevance: Lista de relevancias numéricas.\n",
    "    :param k: Posición K.\n",
    "    :return: Valor de DCG en la posición K.\n",
    "    \"\"\"\n",
    "    # TO DO"
   ]
  },
  {
   "cell_type": "markdown",
   "metadata": {},
   "source": [
    "7. NDCG at K\n",
    "Descripción: Calcula el Normalized Discounted Cumulative Gain en la posición K para una consulta dada una lista de relevancias numéricas."
   ]
  },
  {
   "cell_type": "code",
   "execution_count": null,
   "metadata": {},
   "outputs": [],
   "source": [
    "def ndcg_at_k(relevance, k):\n",
    "    \"\"\"\n",
    "    Calcula el Normalized Discounted Cumulative Gain en la posición K para una consulta dada una lista de relevancias numéricas.\n",
    "    \n",
    "    :param relevance: Lista de relevancias numéricas.\n",
    "    :param k: Posición K.\n",
    "    :return: Valor de NDCG en la posición K.\n",
    "    \"\"\"\n",
    "    # TO DO"
   ]
  }
 ],
 "metadata": {
  "language_info": {
   "name": "python"
  }
 },
 "nbformat": 4,
 "nbformat_minor": 2
}
