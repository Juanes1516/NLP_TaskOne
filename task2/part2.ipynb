{
 "cells": [
  {
   "cell_type": "markdown",
   "metadata": {},
   "source": [
    "# TAREA 2\n",
    "## Modelos de lenguage: N-gramas\n",
    "### Parte 2\n",
    "\n",
    "A continuación se realizan las importaciones necesarias para importar bibliotecas para el procesamiento de lenguaje natural con NLTK, manejo de archivos comprimidos, web scraping, manipulación de datos JSON y combinaciones, además de optimización de cálculos usando GPU con cupy. Facilita tareas como tokenización, creación de n-gramas y análisis eficiente de datos textuales."
   ]
  },
  {
   "cell_type": "code",
   "execution_count": null,
   "metadata": {},
   "outputs": [],
   "source": []
  }
 ],
 "metadata": {
  "language_info": {
   "name": "python"
  }
 },
 "nbformat": 4,
 "nbformat_minor": 2
}
