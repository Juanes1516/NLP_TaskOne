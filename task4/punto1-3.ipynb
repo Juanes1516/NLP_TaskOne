{
 "cells": [
  {
   "cell_type": "code",
   "execution_count": 76,
   "metadata": {},
   "outputs": [],
   "source": [
    "import os\n",
    "import re\n",
    "from gensim.models import Word2Vec\n",
    "from nltk.tokenize import word_tokenize\n",
    "from nltk.corpus import stopwords\n",
    "from nltk.stem import WordNetLemmatizer\n",
    "import string\n",
    "from sklearn.calibration import LabelEncoder\n",
    "import matplotlib.pyplot as plt\n",
    "from sklearn.decomposition import PCA\n",
    "from sklearn.metrics import precision_score, recall_score\n",
    "from tensorflow.keras.layers import BatchNormalization\n",
    "from tensorflow.keras.layers import Dropout\n",
    "from tensorflow.keras.models import Sequential\n",
    "from tensorflow.keras.layers import Dense, Input\n",
    "from tensorflow.keras.utils import to_categorical\n",
    "from sklearn.feature_extraction.text import TfidfVectorizer\n",
    "from sklearn.model_selection import train_test_split\n",
    "import numpy as np \n",
    "import pandas as pd\n",
    "from gensim.models import KeyedVectors"
   ]
  },
  {
   "cell_type": "markdown",
   "metadata": {},
   "source": [
    "# Punto 1"
   ]
  },
  {
   "cell_type": "code",
   "execution_count": 56,
   "metadata": {},
   "outputs": [],
   "source": [
    "def clean_gutenberg_text(text):\n",
    "    text = re.sub(r'^.*?\\*\\*\\* START OF THE PROJECT GUTENBERG EBOOK.*?\\*\\*\\*', '', text, flags=re.DOTALL)\n",
    "    text = re.sub(r'\\*\\*\\* END OF THE PROJECT GUTENBERG EBOOK.*?$', '', text, flags=re.DOTALL)\n",
    "    authors = r'William Oberfield|James Branch Cabell|Wilhelm Raabe'\n",
    "    text = re.sub(r'(?i)\\b(?:' + authors + r')\\b.*?(?=\\n)', '', text, flags=re.DOTALL)\n",
    "    text = re.sub(r'(Produced by.*?Distributed Proofreaders|Title:.*?Author:.*?Release date:.*?Language:.*?Credits:.*?Project Gutenberg Distributed Proofreaders)', '', text, flags=re.DOTALL)\n",
    "    text = re.sub(r'(CONTENTS.*?THE AFTERWORD|BIBLIOGRAPHY|INDEX)', '', text, flags=re.DOTALL)\n",
    "    text = re.sub(r'\\n+', '\\n', text)\n",
    "    text = text.strip()\n",
    "    \n",
    "    return text"
   ]
  },
  {
   "cell_type": "code",
   "execution_count": 57,
   "metadata": {},
   "outputs": [],
   "source": [
    "def preprocess_text(text):\n",
    "    text = clean_gutenberg_text(text)\n",
    "    text = re.sub(r'\\d+', '', text)\n",
    "    text = text.lower()\n",
    "    text = text.translate(str.maketrans('', '', string.punctuation))\n",
    "    tokens = word_tokenize(text)\n",
    "    lemmatizer = WordNetLemmatizer() \n",
    "    tokens = [lemmatizer.lemmatize(word) for word in tokens if word not in stopwords.words('english')]\n",
    "    return tokens"
   ]
  },
  {
   "cell_type": "code",
   "execution_count": 61,
   "metadata": {},
   "outputs": [],
   "source": [
    "def load_books_from_directory(directory):\n",
    "    corpus = []\n",
    "    for root, dirs, files in os.walk(directory):\n",
    "        for file in files:\n",
    "            if file.endswith(\".txt\"):\n",
    "                file_path = os.path.join(root, file)\n",
    "                with open(file_path, 'r', encoding='utf-8') as f:\n",
    "                    text = f.read()\n",
    "                    tokens = preprocess_text(text)\n",
    "                    corpus.append(tokens)\n",
    "    return corpus"
   ]
  },
  {
   "cell_type": "code",
   "execution_count": 62,
   "metadata": {},
   "outputs": [
    {
     "name": "stdout",
     "output_type": "stream",
     "text": [
      "Saved model with size 200 as 'Books_200_G4.model'\n",
      "Saved model with size 300 as 'Books_300_G4.model'\n",
      "Saved model with size 400 as 'Books_400_G4.model'\n",
      "Training completed.\n"
     ]
    }
   ],
   "source": [
    "directory = 'books' \n",
    "corpus = load_books_from_directory(directory)\n",
    "\n",
    "embedding_sizes = [200, 300, 400]\n",
    "group_code = \"G4\"\n",
    "\n",
    "for size in embedding_sizes:\n",
    "    model = Word2Vec(sentences=corpus, vector_size=size, window=5, min_count=5, workers=4)\n",
    "    \n",
    "    model.save(f'Books_{size}_{group_code}.model')\n",
    "    print(f\"Saved model with size {size} as 'Books_{size}_{group_code}.model'\")\n",
    "\n",
    "print(\"Training completed.\")\n"
   ]
  },
  {
   "cell_type": "markdown",
   "metadata": {},
   "source": [
    "#  Punto 2"
   ]
  },
  {
   "cell_type": "code",
   "execution_count": null,
   "metadata": {},
   "outputs": [],
   "source": [
    "pca = PCA(n_components=2)\n",
    "reduced_vectors_pca = pca.fit_transform(vectors)\n",
    "\n",
    "plt.figure(figsize=(12, 8))\n",
    "plt.scatter(reduced_vectors_pca[:, 0], reduced_vectors_pca[:, 1])\n",
    "\n",
    "for i, word in enumerate(words):\n",
    "    plt.annotate(word, xy=(reduced_vectors_pca[i, 0], reduced_vectors_pca[i, 1]))\n",
    "\n",
    "plt.title(\"2D Visualization of Most Similar Words to Main Characters (PCA)\")\n",
    "plt.show()\n"
   ]
  },
  {
   "cell_type": "markdown",
   "metadata": {},
   "source": [
    "# Punto 3"
   ]
  },
  {
   "cell_type": "code",
   "execution_count": 102,
   "metadata": {},
   "outputs": [],
   "source": [
    "def load_embeddings(file_path):\n",
    "    return KeyedVectors.load(file_path)\n",
    "\n",
    "embedding_file_paths = {\n",
    "    200: 'Books_200_G4.model',\n",
    "    300: 'Books_300_G4.model',\n",
    "    400: 'Books_400_G4.model', \n",
    "}"
   ]
  },
  {
   "cell_type": "code",
   "execution_count": 99,
   "metadata": {},
   "outputs": [],
   "source": [
    "def split_into_segments(text, segment_size=200):\n",
    "    words = text.split() \n",
    "    segments = [' '.join(words[i:i + segment_size]) for i in range(0, len(words), segment_size)]\n",
    "    return segments"
   ]
  },
  {
   "cell_type": "code",
   "execution_count": 100,
   "metadata": {},
   "outputs": [],
   "source": [
    "def load_books_data(base_path='books', segment_size=200):\n",
    "    texts = []\n",
    "    labels = []\n",
    "    authors = os.listdir(base_path)\n",
    "\n",
    "    for author in authors:\n",
    "        author_path = os.path.join(base_path, author)\n",
    "        for book_file in os.listdir(author_path):\n",
    "            with open(os.path.join(author_path, book_file), 'r', encoding='utf-8') as f:\n",
    "                book_text = f.read()\n",
    "                clean_text = clean_gutenberg_text(book_text)\n",
    "                segments = split_into_segments(clean_text, segment_size)\n",
    "                texts.extend(segments)\n",
    "                labels.extend([author] * len(segments))\n",
    "    \n",
    "    return texts, labels"
   ]
  },
  {
   "cell_type": "code",
   "execution_count": 105,
   "metadata": {},
   "outputs": [],
   "source": [
    "embeddings = {size: load_embeddings(path) for size, path in embedding_file_paths.items()}\n",
    "\n",
    "def create_dataset(texts, authors, embedding_size):\n",
    "    df = pd.DataFrame({'text': texts, 'author': authors})\n",
    "    df['embedding'] = df['text'].apply(lambda x: np.mean(\n",
    "        [embeddings[embedding_size].wv[word] for word in x.split() if word in embeddings[embedding_size].wv], \n",
    "        axis=0)\n",
    "    )\n",
    "\n",
    "    return df"
   ]
  },
  {
   "cell_type": "code",
   "execution_count": null,
   "metadata": {},
   "outputs": [],
   "source": [
    "texts, labels = load_books_data()\n",
    "dataset = create_dataset(texts, labels)"
   ]
  },
  {
   "cell_type": "code",
   "execution_count": 91,
   "metadata": {},
   "outputs": [
    {
     "name": "stdout",
     "output_type": "stream",
     "text": [
      "          set                                              count\n",
      "0       train  James Branch Cabell    672\n",
      "Wilhelm Raabe      ...\n",
      "1  validation  James Branch Cabell    77\n",
      "Wilhelm Raabe       ...\n",
      "2        test  James Branch Cabell    95\n",
      "Wilhelm Raabe       ...\n"
     ]
    }
   ],
   "source": [
    "train_texts, test_texts, train_authors, test_authors = train_test_split(\n",
    "    dataset['embedding'].tolist(), dataset['author'].tolist(), test_size=0.2, random_state=42)\n",
    "\n",
    "val_texts, test_texts, val_authors, test_authors = train_test_split(\n",
    "    test_texts, test_authors, test_size=0.5, random_state=42)\n",
    "\n",
    "summary = pd.DataFrame({\n",
    "    'set': ['train', 'validation', 'test'],\n",
    "    'count': [\n",
    "        pd.Series(train_authors).value_counts(),\n",
    "        pd.Series(val_authors).value_counts(),\n",
    "        pd.Series(test_authors).value_counts(),\n",
    "    ]\n",
    "})\n",
    "\n",
    "print(summary)"
   ]
  },
  {
   "cell_type": "code",
   "execution_count": 70,
   "metadata": {},
   "outputs": [],
   "source": [
    "def build_simple_model(input_dim):\n",
    "    model = Sequential()\n",
    "    model.add(Input(shape=(input_dim,)))\n",
    "    model.add(Dense(64, activation='relu'))\n",
    "    model.add(Dense(32, activation='relu'))\n",
    "    model.add(Dense(3, activation='softmax'))  # 3 classes for classification\n",
    "    return model"
   ]
  },
  {
   "cell_type": "code",
   "execution_count": 71,
   "metadata": {},
   "outputs": [],
   "source": [
    "def build_deep_model(input_dim):\n",
    "    model = Sequential()\n",
    "    model.add(Input(shape=(input_dim,)))\n",
    "    model.add(Dense(128, activation='relu'))\n",
    "    model.add(Dropout(0.5))\n",
    "    model.add(Dense(64, activation='relu'))\n",
    "    model.add(Dense(32, activation='relu'))\n",
    "    model.add(Dense(3, activation='softmax'))\n",
    "    return model"
   ]
  },
  {
   "cell_type": "code",
   "execution_count": 24,
   "metadata": {},
   "outputs": [],
   "source": [
    "def build_batchnorm_model(input_dim):\n",
    "    model = Sequential()\n",
    "    model.add(Input(shape=(input_dim,)))\n",
    "    model.add(Dense(128, activation='relu'))\n",
    "    model.add(BatchNormalization()) \n",
    "    model.add(Dense(64, activation='relu'))\n",
    "    model.add(BatchNormalization())\n",
    "    model.add(Dense(32, activation='relu'))\n",
    "    model.add(Dense(3, activation='softmax'))\n",
    "    return model"
   ]
  },
  {
   "cell_type": "code",
   "execution_count": 92,
   "metadata": {},
   "outputs": [],
   "source": [
    "def compile_and_train_model(model, train_texts, train_authors, val_texts, val_authors):\n",
    "  model.compile(\n",
    "    loss='sparse_categorical_crossentropy', \n",
    "    optimizer='adam', \n",
    "    metrics=['accuracy']\n",
    "  )\n",
    "  history = model.fit(\n",
    "    np.array(train_texts), \n",
    "    np.array(train_authors), \n",
    "    validation_data=(np.array(val_texts), np.array(val_authors)), \n",
    "    epochs=10, \n",
    "    batch_size=32\n",
    "  )\n",
    "  return history"
   ]
  },
  {
   "cell_type": "code",
   "execution_count": 74,
   "metadata": {},
   "outputs": [
    {
     "name": "stdout",
     "output_type": "stream",
     "text": [
      "\u001b[1m6/6\u001b[0m \u001b[32m━━━━━━━━━━━━━━━━━━━━\u001b[0m\u001b[37m\u001b[0m \u001b[1m0s\u001b[0m 15ms/step\n",
      "\u001b[1m6/6\u001b[0m \u001b[32m━━━━━━━━━━━━━━━━━━━━\u001b[0m\u001b[37m\u001b[0m \u001b[1m0s\u001b[0m 2ms/step - accuracy: 0.9847 - loss: 0.0551 \n",
      "Accuracy: 0.9819276928901672\n",
      "Precision: 0.982344763670065\n",
      "Recall: 0.9819277108433735\n"
     ]
    }
   ],
   "source": [
    "embedding_sizes = [200, 300, 400]\n",
    "results = {}\n",
    "\n",
    "for size in embedding_sizes:\n",
    "    print(f\"Entrenando con embeddings de tamaño: {size}\")\n",
    "    dataset['embedding'] = dataset['text'].apply(lambda x: np.mean([embeddings[size].wv[word] for word in x.split() if word in embeddings[size].wv], axis=0))\n",
    "\n",
    "    train_texts, test_texts, train_authors, test_authors = train_test_split(\n",
    "        dataset['embedding'].tolist(), dataset['author'].tolist(), test_size=0.2, random_state=42)\n",
    "\n",
    "    val_texts, test_texts, val_authors, test_authors = train_test_split(\n",
    "        test_texts, test_authors, test_size=0.5, random_state=42)\n",
    "\n",
    "    model = create_model(size)\n",
    "    history = compile_and_train_model(model, train_texts, train_authors, val_texts, val_authors)\n",
    "\n",
    "    results[size] = evaluate_model(model, test_texts, test_authors)\n",
    "\n",
    "# Resumen de los resultados\n",
    "for size, metrics in results.items():\n",
    "    print(f\"Results for embeddings size {size}:\")\n",
    "    print(f\"Accuracy: {metrics['accuracy']}\")\n",
    "    print(f\"Precision: {metrics['weighted avg']['precision']}\")\n",
    "    print(f\"Recall: {metrics['weighted avg']['recall']}\\n\")"
   ]
  }
 ],
 "metadata": {
  "kernelspec": {
   "display_name": "machine_learning_venv",
   "language": "python",
   "name": "python3"
  },
  "language_info": {
   "codemirror_mode": {
    "name": "ipython",
    "version": 3
   },
   "file_extension": ".py",
   "mimetype": "text/x-python",
   "name": "python",
   "nbconvert_exporter": "python",
   "pygments_lexer": "ipython3",
   "version": "3.12.3"
  }
 },
 "nbformat": 4,
 "nbformat_minor": 2
}
