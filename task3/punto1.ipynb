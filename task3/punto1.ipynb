{
 "cells": [
  {
   "cell_type": "code",
   "execution_count": 11,
   "metadata": {},
   "outputs": [
    {
     "name": "stderr",
     "output_type": "stream",
     "text": [
      "[nltk_data] Downloading package stopwords to\n",
      "[nltk_data]     C:\\Users\\juane\\AppData\\Roaming\\nltk_data...\n",
      "[nltk_data]   Package stopwords is already up-to-date!\n"
     ]
    },
    {
     "data": {
      "text/plain": [
       "True"
      ]
     },
     "execution_count": 11,
     "metadata": {},
     "output_type": "execute_result"
    }
   ],
   "source": [
    "import os \n",
    "import re\n",
    "import pandas as pd\n",
    "import numpy as np\n",
    "import nltk\n",
    "from nltk.corpus import stopwords \n",
    "from sklearn.feature_extraction.text import CountVectorizer,TfidfVectorizer\n",
    "from sklearn.model_selection import train_test_split \n",
    "from sklearn.naive_bayes import MultinomialNB\n",
    "from sklearn.metrics import (\n",
    "    accuracy_score,\n",
    "    precision_score,\n",
    "    recall_score,\n",
    "    f1_score,\n",
    ") \n",
    "from sklearn.linear_model import SGDClassifier\n",
    "from sklearn.model_selection import GridSearchCV, cross_val_score\n",
    "stemmer = nltk.stem.SnowballStemmer('english')\n",
    "nltk.download('stopwords')"
   ]
  },
  {
   "cell_type": "markdown",
   "metadata": {},
   "source": [
    "### I. For the 20N dataset compare two classifiers NB and LR to identify the 20 different newsgroups.\n",
    "####     o Create your own processing pipeline for the task and justify it.\n",
    "####     o Divide the dataset into training (60%), validation (10%) and test (30%).\n",
    "####     o Train NB and LR using the following vector representations:\n",
    "####     ▪ tf (counts) representation (sklearn: CountVectorizer).\n",
    "####     ▪ tfidf representation (sklearn: TfidfVectorizer)."
   ]
  },
  {
   "cell_type": "code",
   "execution_count": 12,
   "metadata": {},
   "outputs": [],
   "source": [
    "path_20N = 'datasets/20news-18828/20news-18828/'"
   ]
  },
  {
   "cell_type": "code",
   "execution_count": 13,
   "metadata": {},
   "outputs": [],
   "source": [
    "def preprocess_text(text):\n",
    "    text = text.lower()\n",
    "    ### Remover correos electrónicos\n",
    "    text = re.sub(r'[\\w\\d]+@[\\w\\d]+\\.[\\w\\d]+\\.?[\\w\\d]*\\.?[\\w\\d]*\\.?[\\w\\d]*\\.?[\\w\\d]*',' ',text)\n",
    "    #### Reemplazar números con la etiqueta NUM\n",
    "    text = re.sub(r'\\d+', 'NUM', text)\n",
    "    # Remover con un expresión regular carateres especiales (no palabras) excepto signos de puntuación.\n",
    "    text = re.sub(r'[^\\w\\s\\.,:;\\'\\?]', ' ', str(text))\n",
    "    # remover __ \n",
    "    text = re.sub(r'_+',' ',str(text))\n",
    "    # minúsculas\n",
    "    text = text.lower()\n",
    "    # stemming\n",
    "    text = \" \".join([stemmer.stem(word) for word in text.split()])\n",
    "\n",
    "    return text"
   ]
  },
  {
   "cell_type": "code",
   "execution_count": 14,
   "metadata": {},
   "outputs": [],
   "source": [
    "def pipline_text(path20N):\n",
    "    categoria = []\n",
    "    texto = [] \n",
    "\n",
    "    for root, dirs, files in os.walk(path_20N):\n",
    "        for file in files:\n",
    "            categoria.append(root[root.rfind('/')+1:])\n",
    "            with open(os.path.join(root,file),'r',encoding='latin-1') as file: \n",
    "                text = file.read()\n",
    "                texto.append(preprocess_text(text))\n",
    "    return texto,categoria\n",
    "        \n",
    "\n",
    "textos,categorias = pipline_text(path20N=path_20N)"
   ]
  },
  {
   "cell_type": "code",
   "execution_count": 15,
   "metadata": {},
   "outputs": [],
   "source": [
    "vectorizer_tf = CountVectorizer(max_features=4000, stop_words=stopwords.words('english') )\n",
    "texto_features_tf = vectorizer_tf.fit_transform(textos).toarray()\n",
    "#Divide the dataset into training (60%), validation (10%) and test (30%).\n",
    "x_temp_tf, x_test_tf, y_temp_tf, y_test_tf = train_test_split(texto_features_tf,categorias,test_size=0.3)\n",
    "x_train_tf, x_val_tf, y_train_tf,y_val_tf = train_test_split(x_temp_tf,y_temp_tf,test_size=0.1)"
   ]
  },
  {
   "cell_type": "code",
   "execution_count": 16,
   "metadata": {},
   "outputs": [],
   "source": [
    "vectorizer_tfidf = TfidfVectorizer(max_features=4000, stop_words=stopwords.words('english'))\n",
    "texto_features_tfidf = vectorizer_tfidf.fit_transform(textos)\n",
    "#Divide the dataset into training (60%), validation (10%) and test (30%).\n",
    "x_temp_tfidf,x_test_tfidf,y_temp_tfidf,y_test_tfidf = train_test_split(texto_features_tfidf,categorias,test_size=0.3)\n",
    "x_train_tfidf,x_val_tfidf,y_train_tfidf,y_val_tfidf = train_test_split(x_temp_tfidf,y_temp_tfidf)"
   ]
  },
  {
   "cell_type": "markdown",
   "metadata": {},
   "source": [
    "### Train NB and LR"
   ]
  },
  {
   "cell_type": "code",
   "execution_count": 17,
   "metadata": {},
   "outputs": [
    {
     "name": "stdout",
     "output_type": "stream",
     "text": [
      " tf Naive Bayes accuracy score : 0.7854487519915029, params:{'alpha': 1.0, 'class_prior': None, 'fit_prior': True, 'force_alpha': True}\n",
      " tfidf Naive Bayes accuracy_score: 0.8371393166932201, params: {'alpha': 1.0, 'class_prior': None, 'fit_prior': True, 'force_alpha': True}\n"
     ]
    }
   ],
   "source": [
    "### Hacemos un entrenamiento tradicional para ver los resultados, haciendo un split de 70-30\n",
    "### y tomar este modelo como linea base de comparación\n",
    "nb_tf = MultinomialNB()\n",
    "nb_tf.fit(x_temp_tf,y_temp_tf)  ## x_temp_tf,y_temp_tf el 70% de los datos\n",
    "predictions_tf = nb_tf.predict(x_test_tf)\n",
    "print(f\" tf Naive Bayes accuracy score : {accuracy_score(y_test_tf,predictions_tf)}, params:{nb_tf.get_params()}\")\n",
    "\n",
    "nb_tfidf = MultinomialNB()\n",
    "nb_tfidf.fit(x_temp_tfidf,y_temp_tfidf) ## x_temp_tfidf,y_temp_tfidf el 70% de los datos\n",
    "predictions_tfidf = nb_tfidf.predict(x_test_tfidf)\n",
    "print(f\" tfidf Naive Bayes accuracy_score: {accuracy_score(y_test_tfidf,predictions_tfidf)}, params: {nb_tfidf.get_params()}\")"
   ]
  },
  {
   "cell_type": "code",
   "execution_count": 18,
   "metadata": {},
   "outputs": [
    {
     "name": "stdout",
     "output_type": "stream",
     "text": [
      "tf accuracy_score: 0.7817312798725438\n",
      "tfidf accuracy_score: 0.690564701717118\n"
     ]
    }
   ],
   "source": [
    "### Hacemos un entrenamiento tradicional para ver los resultados, haciendo un split de 70-30\n",
    "### y tomar este modelo como linea base de comparación\n",
    "logistic_model_SGD_tf = SGDClassifier(loss='log_loss', learning_rate='constant', eta0=0.0001)\n",
    "logistic_model_SGD_tf.fit(x_temp_tf,y_temp_tf)\n",
    "predictions_SGD_tf = logistic_model_SGD_tf.predict(x_test_tf)\n",
    "print(f'tf accuracy_score: {accuracy_score(y_test_tf,predictions_SGD_tf)}')\n",
    "\n",
    "logistic_model_SGD_tfidf = SGDClassifier(loss='log_loss', learning_rate='constant', eta0=0.0001)\n",
    "logistic_model_SGD_tfidf.fit(x_temp_tfidf,y_temp_tfidf)\n",
    "predictions_SGD_tfidf = logistic_model_SGD_tfidf.predict(x_test_tfidf)\n",
    "print(f'tfidf accuracy_score: {accuracy_score(y_test_tfidf,predictions_SGD_tfidf)}')"
   ]
  },
  {
   "cell_type": "markdown",
   "metadata": {},
   "source": [
    "### Investigate cross-validation technique.\n",
    "### o Explain what the strategy consists of and what it is used for."
   ]
  },
  {
   "cell_type": "code",
   "execution_count": null,
   "metadata": {},
   "outputs": [],
   "source": []
  },
  {
   "cell_type": "code",
   "execution_count": null,
   "metadata": {},
   "outputs": [],
   "source": []
  },
  {
   "cell_type": "markdown",
   "metadata": {},
   "source": [
    "### Compare the results of NB and LR using 10-fold cross validation\n"
   ]
  },
  {
   "cell_type": "code",
   "execution_count": 19,
   "metadata": {},
   "outputs": [
    {
     "name": "stdout",
     "output_type": "stream",
     "text": [
      "mejores alpha: {'alpha': 0.1}, mejor score: 0.7973283304701101\n",
      "tf cross validations accuracy_score: 0.7937688086386971\n"
     ]
    }
   ],
   "source": [
    "## para Naive Bayes buscamos el alpha más adecuado para suavizar con laplace, \n",
    "## usualmente alpha=1 y usamos el método de crosvalidation.\n",
    "grid = {'alpha':[0.001,0.01,0.1,1,10]}  # buscamos sobre estos alphas para ver cuál es mejor\n",
    "nb_tf_crossval = MultinomialNB()\n",
    "grid_search_tf_crossval = GridSearchCV(nb_tf_crossval,grid, cv=10)   # 10 folders\n",
    "grid_search_tf_crossval.fit(x_temp_tf,y_temp_tf)\n",
    "print(f\"mejores alpha: {grid_search_tf_crossval.best_params_}, mejor score: {grid_search_tf_crossval.best_score_}\")\n",
    "predictions_nb_tf_crossval = grid_search_tf_crossval.predict(x_test_tf)\n",
    "print(f\"tf cross validations accuracy_score: {accuracy_score(y_test_tf,predictions_nb_tf_crossval)}\")\n"
   ]
  },
  {
   "cell_type": "markdown",
   "metadata": {},
   "source": [
    "#"
   ]
  },
  {
   "cell_type": "code",
   "execution_count": 20,
   "metadata": {},
   "outputs": [
    {
     "name": "stdout",
     "output_type": "stream",
     "text": [
      "mejores alpha: {'alpha': 0.1}, mejor score: 0.8520373244475478\n",
      "tfid cross validations accuracy_score: 0.8495308904230837\n"
     ]
    }
   ],
   "source": [
    "## para Naive Bayes buscamos el alpha más adecuado para suavizar con laplace, \n",
    "## usualmente alpha=1 y usamos el método de crosvalidation.\n",
    "grid = {'alpha':[0.001,0.01,0.1,1,10]}  # buscamos sobre estos alphas para ver cuál es mejor\n",
    "nb_tfid_crossval = MultinomialNB()\n",
    "grid_search_tfid_crossval = GridSearchCV(nb_tfid_crossval,grid, cv=10,scoring='accuracy')   # 10 folders\n",
    "grid_search_tfid_crossval.fit(x_temp_tfidf,y_temp_tfidf)\n",
    "print(f\"mejores alpha: {grid_search_tfid_crossval.best_params_}, mejor score: {grid_search_tfid_crossval.best_score_}\")\n",
    "predictions_nb_tfid_crossval = grid_search_tfid_crossval.predict(x_test_tfidf)\n",
    "print(f\"tfid cross validations accuracy_score: {accuracy_score(y_test_tfidf,predictions_nb_tfid_crossval)}\")\n",
    "\n"
   ]
  },
  {
   "cell_type": "code",
   "execution_count": 21,
   "metadata": {},
   "outputs": [
    {
     "name": "stdout",
     "output_type": "stream",
     "text": [
      "mejores params: {'eta0': 0.001, 'learning_rate': 'constant'}, mejor score: 0.7882248361856106\n",
      "tf score sgv crossv: 0.7960701009028146\n"
     ]
    }
   ],
   "source": [
    "param_grid_SGVclassifier = {\n",
    "    'learning_rate': ['constant'],\n",
    "    'eta0': [0.001, 0.01, 0.1, 1],  \n",
    "}\n",
    "\n",
    "sgvclas_tf_crv = SGDClassifier(loss='log_loss',max_iter=1000,tol=0.001)\n",
    "grid_search_sgvclas_tf_crv = GridSearchCV(sgvclas_tf_crv,param_grid_SGVclassifier,cv=10,scoring='accuracy')\n",
    "grid_search_sgvclas_tf_crv.fit(x_temp_tf,y_temp_tf) # 70% data\n",
    "print(f'mejores params: {grid_search_sgvclas_tf_crv.best_params_}, mejor score: {grid_search_sgvclas_tf_crv.best_score_}')\n",
    "predictions_sgvclass_tf_crv = grid_search_sgvclas_tf_crv.predict(x_test_tf)\n",
    "print(f'tf score sgv crossv: {accuracy_score(y_test_tf,predictions_sgvclass_tf_crv)}')"
   ]
  },
  {
   "cell_type": "code",
   "execution_count": 22,
   "metadata": {},
   "outputs": [
    {
     "name": "stdout",
     "output_type": "stream",
     "text": [
      "mejores params: {'eta0': 0.1, 'learning_rate': 'constant'}, mejor score: 0.842021228178725\n",
      "tfidf score sgv crossv: 0.844397238449283\n"
     ]
    }
   ],
   "source": [
    "param_grid_SGVclassifier = {\n",
    "    'learning_rate': ['constant'],\n",
    "    'eta0': [0.001, 0.01, 0.1, 1],  \n",
    "}\n",
    "\n",
    "sgvclas_tfidf_crv = SGDClassifier(loss='log_loss',max_iter=1000,tol=0.001)\n",
    "grid_search_sgvclas_tfidf_crv = GridSearchCV(sgvclas_tfidf_crv,param_grid_SGVclassifier,cv=10,scoring='accuracy')\n",
    "grid_search_sgvclas_tfidf_crv.fit(x_temp_tfidf,y_temp_tfidf) # 70% data\n",
    "print(f'mejores params: {grid_search_sgvclas_tfidf_crv.best_params_}, mejor score: {grid_search_sgvclas_tfidf_crv.best_score_}')\n",
    "predictions_sgvclass_tfidf_crv = grid_search_sgvclas_tfidf_crv.predict(x_test_tfidf)\n",
    "print(f'tfidf score sgv crossv: {accuracy_score(y_test_tfidf,predictions_sgvclass_tfidf_crv)}')\n"
   ]
  },
  {
   "cell_type": "markdown",
   "metadata": {},
   "source": [
    "### o Compare the results of NB and LR using 10-fold cross validation"
   ]
  },
  {
   "cell_type": "markdown",
   "metadata": {},
   "source": [
    "tf Naive-Bayes cross validation accuracy_score: 0.7976633032395114\n",
    "mejores alpha: {'alpha': 0.1}\n",
    "\n",
    "tfid Naive-Bayes cross validation accuracy_score: 0.8534253850238981\n",
    "mejores alpha: {'alpha': 0.1}\n",
    "\n",
    "tf sgv-classifier crossv accuracy_score: 0.8006726854310497\n",
    "mejores params: {'eta0': 0.001, 'learning_rate': 'constant'}\n",
    "\n",
    "tfidf sgv-classifier crossv  accuracy_score: 0.8410338112940343\n",
    "mejores params: {'eta0': 0.1, 'learning_rate': 'constant'}\n"
   ]
  },
  {
   "cell_type": "markdown",
   "metadata": {},
   "source": [
    "### III. Evaluate models using the test set:\n",
    "### o Report precision, recall, and F1 with the micro and micro average results.\n",
    "### o What is the best model?"
   ]
  },
  {
   "cell_type": "code",
   "execution_count": 23,
   "metadata": {},
   "outputs": [],
   "source": [
    "# presicion macro\n",
    "precision_macro_nb_tf = precision_score(y_test_tf,predictions_nb_tf_crossval,average='macro')\n",
    "precision_macro_nb_tfidf = precision_score(y_test_tfidf,predictions_nb_tfid_crossval,average='macro')\n",
    "precision_macro_svgclass_tf  = precision_score(y_test_tf,predictions_sgvclass_tf_crv,average='macro')\n",
    "presicion_macro_svgclass_tfidf = precision_score(y_test_tfidf,predictions_sgvclass_tfidf_crv,average='macro')\n",
    "\n",
    "# recall macro\n",
    "recall_macro_nb_tf = recall_score(y_test_tf,predictions_nb_tf_crossval,average='macro')\n",
    "recall_macro_nb_tfidf = recall_score(y_test_tfidf,predictions_nb_tfid_crossval,average='macro')\n",
    "recall_macro_svgclass_tf = recall_score(y_test_tf,predictions_sgvclass_tf_crv,average='macro')\n",
    "recall_macro_svgclass_tfidf = recall_score(y_test_tfidf,predictions_sgvclass_tfidf_crv,average='macro')\n",
    "\n",
    "# f1 score macro\n",
    "f1score_macro_nb_tf = f1_score(y_test_tf,predictions_nb_tf_crossval,average='macro')\n",
    "f1score_macro_nb_tfidf = f1_score(y_test_tfidf,predictions_nb_tfid_crossval,average='macro')\n",
    "f1score_macro_svgclass_tf = f1_score(y_test_tf,predictions_sgvclass_tf_crv,average='macro')\n",
    "f1score_macro_svgclass_tfidf = f1_score(y_test_tfidf,predictions_sgvclass_tfidf_crv,average='macro')\n",
    "\n",
    "# presicion micro\n",
    "precision_micro_nb_tf = precision_score(y_test_tf,predictions_nb_tf_crossval,average='micro')\n",
    "precision_micro_nb_tfidf = precision_score(y_test_tfidf,predictions_nb_tfid_crossval,average='micro')\n",
    "precision_micro_svgclass_tf  = precision_score(y_test_tf,predictions_sgvclass_tf_crv,average='micro')\n",
    "presicion_micro_svgclass_tfidf = precision_score(y_test_tfidf,predictions_sgvclass_tfidf_crv,average='micro')\n",
    "\n",
    "# recall micro\n",
    "recall_micro_nb_tf = recall_score(y_test_tf,predictions_nb_tf_crossval,average='micro')\n",
    "recall_micro_nb_tfidf = recall_score(y_test_tfidf,predictions_nb_tfid_crossval,average='micro')\n",
    "recall_micro_svgclass_tf = recall_score(y_test_tf,predictions_sgvclass_tf_crv,average='micro')\n",
    "recall_micro_svgclass_tfidf = recall_score(y_test_tfidf,predictions_sgvclass_tfidf_crv,average='micro')\n",
    "\n",
    "# f1 score macro\n",
    "f1score_micro_nb_tf = f1_score(y_test_tf,predictions_nb_tf_crossval,average='micro')\n",
    "f1score_micro_nb_tfidf = f1_score(y_test_tfidf,predictions_nb_tfid_crossval,average='micro')\n",
    "f1score_micro_svgclass_tf = f1_score(y_test_tf,predictions_sgvclass_tf_crv,average='micro')\n",
    "f1score_micro_svgclass_tfidf = f1_score(y_test_tfidf,predictions_sgvclass_tfidf_crv,average='micro')\n",
    "\n"
   ]
  },
  {
   "cell_type": "code",
   "execution_count": 24,
   "metadata": {},
   "outputs": [],
   "source": [
    "results = {'precision_macro_nb_tf':precision_macro_nb_tf,\n",
    "'precision_macro_nb_tfidf':precision_macro_nb_tfidf,\n",
    "'precision_macro_svgclass_tf':precision_macro_svgclass_tf,\n",
    "'presicion_macro_svgclass_tfidf':presicion_macro_svgclass_tfidf,\n",
    "'recall_macro_nb_tf':recall_macro_nb_tf,\n",
    "'recall_macro_nb_tfidf':recall_macro_nb_tfidf,\n",
    "'recall_macro_svgclass_tf':recall_macro_svgclass_tf,\n",
    "'recall_macro_svgclass_tfidf':recall_macro_svgclass_tfidf,\n",
    "'f1score_macro_nb_tf':f1score_macro_nb_tf,\n",
    "'f1score_macro_nb_tfidf':f1score_macro_nb_tfidf,\n",
    "'f1score_macro_svgclass_tf':f1score_macro_svgclass_tf,\n",
    "'f1score_macro_svgclass_tfidf':f1score_macro_svgclass_tfidf,\n",
    "'precision_micro_nb_tf':precision_micro_nb_tf,\n",
    "'precision_micro_nb_tfidf':precision_micro_nb_tfidf,\n",
    "'precision_micro_svgclass_tf':precision_micro_svgclass_tf,\n",
    "'presicion_micro_svgclass_tfidf':presicion_micro_svgclass_tfidf,\n",
    "'recall_micro_nb_tf':recall_micro_nb_tf,\n",
    "'recall_micro_nb_tfidf':recall_micro_nb_tfidf,\n",
    "'recall_micro_svgclass_tf':recall_micro_svgclass_tf,\n",
    "'recall_micro_svgclass_tfidf':recall_micro_svgclass_tfidf,\n",
    "'f1score_micro_nb_tf':f1score_micro_nb_tf,\n",
    "'f1score_micro_nb_tfidf':f1score_micro_nb_tfidf,\n",
    "'f1score_micro_svgclass_tf':f1score_micro_svgclass_tf,\n",
    "'f1score_micro_svgclass_tfidf':f1score_micro_svgclass_tfidf,\n",
    "}"
   ]
  },
  {
   "cell_type": "code",
   "execution_count": 25,
   "metadata": {},
   "outputs": [
    {
     "name": "stdout",
     "output_type": "stream",
     "text": [
      "precision_macro_nb_tf: 0.8031757648356919\n",
      "precision_macro_nb_tfidf: 0.8514601617359647\n",
      "precision_macro_svgclass_tf: 0.7999163644334659\n",
      "presicion_macro_svgclass_tfidf: 0.8440491785757906\n",
      "recall_macro_nb_tf: 0.7964037977409798\n",
      "recall_macro_nb_tfidf: 0.8423458633354507\n",
      "recall_macro_svgclass_tf: 0.7950101322538454\n",
      "recall_macro_svgclass_tfidf: 0.8362354667600016\n",
      "f1score_macro_nb_tf: 0.7792011482282863\n",
      "f1score_macro_nb_tfidf: 0.8434506251743006\n",
      "f1score_macro_svgclass_tf: 0.7919228636486852\n",
      "f1score_macro_svgclass_tfidf: 0.836831256170661\n",
      "precision_micro_nb_tf: 0.7937688086386971\n",
      "precision_micro_nb_tfidf: 0.8495308904230837\n",
      "precision_micro_svgclass_tf: 0.7960701009028146\n",
      "presicion_micro_svgclass_tfidf: 0.844397238449283\n",
      "recall_micro_nb_tf: 0.7937688086386971\n",
      "recall_micro_nb_tfidf: 0.8495308904230837\n",
      "recall_micro_svgclass_tf: 0.7960701009028146\n",
      "recall_micro_svgclass_tfidf: 0.844397238449283\n",
      "f1score_micro_nb_tf: 0.7937688086386971\n",
      "f1score_micro_nb_tfidf: 0.8495308904230837\n",
      "f1score_micro_svgclass_tf: 0.7960701009028146\n",
      "f1score_micro_svgclass_tfidf: 0.844397238449283\n"
     ]
    }
   ],
   "source": [
    "for key,value in results.items(): \n",
    "    print(f'{key}: {value}')"
   ]
  },
  {
   "attachments": {
    "image.png": {
     "image/png": "[encoded data removed]"
    }
   },
   "cell_type": "markdown",
   "metadata": {},
   "source": [
    "Dado los resultados expresados en la siguiente tabla, el modelo Naive-Bayes con representación vectorial tfidf se elige como mejor modelo: \n",
    "![image.png](attachment:image.png)"
   ]
  },
  {
   "cell_type": "code",
   "execution_count": null,
   "metadata": {},
   "outputs": [],
   "source": []
  },
  {
   "cell_type": "code",
   "execution_count": 26,
   "metadata": {},
   "outputs": [
    {
     "name": "stdout",
     "output_type": "stream",
     "text": [
      "best accuracy: 0.7776934749620638,epoch: 0\n",
      "best accuracy: 0.7776934749620638,epoch: 1\n",
      "best accuracy: 0.7776934749620638,epoch: 2\n",
      "best accuracy: 0.7776934749620638,epoch: 3\n",
      "best accuracy: 0.7776934749620638,epoch: 4\n",
      "existe posible sobreajuste, época: 4\n",
      "tf accuracy: 0.7847406620640821\n"
     ]
    },
    {
     "data": {
      "text/plain": [
       "{'alpha': 0.0001,\n",
       " 'average': False,\n",
       " 'class_weight': None,\n",
       " 'early_stopping': False,\n",
       " 'epsilon': 0.1,\n",
       " 'eta0': 0.0001,\n",
       " 'fit_intercept': True,\n",
       " 'l1_ratio': 0.15,\n",
       " 'learning_rate': 'constant',\n",
       " 'loss': 'log_loss',\n",
       " 'max_iter': 1000,\n",
       " 'n_iter_no_change': 5,\n",
       " 'n_jobs': None,\n",
       " 'penalty': 'l2',\n",
       " 'power_t': 0.5,\n",
       " 'random_state': None,\n",
       " 'shuffle': True,\n",
       " 'tol': 0.001,\n",
       " 'validation_fraction': 0.1,\n",
       " 'verbose': 0,\n",
       " 'warm_start': False}"
      ]
     },
     "execution_count": 26,
     "metadata": {},
     "output_type": "execute_result"
    }
   ],
   "source": [
    "# hacemos una función para entrenamiento por épocas para \n",
    "# el SGDClassifier evitando sobreajuste\n",
    "\n",
    "def SGD_epochs(xtrain,ytrain,xval,yval,num_epochs,tolerance=0.1,stop=5):\n",
    "    best_accuracy = 0\n",
    "    num_noimprovements = 0\n",
    "    best_model = None\n",
    "    clases = np.unique(ytrain)\n",
    "    model = SGDClassifier(loss='log_loss',learning_rate='constant',eta0=0.0001) \n",
    "    for i in range(num_epochs):\n",
    "        # print(f'época: {i}') \n",
    "        model.fit(xtrain,ytrain)  # entrenar con pequeños lotes de datos \n",
    "        predictions = model.predict(xval)\n",
    "\n",
    "        accuracy = accuracy_score(yval,predictions)\n",
    "\n",
    "        if accuracy > best_accuracy*(1+tolerance):\n",
    "            best_accuracy = accuracy\n",
    "            best_model = model \n",
    "            num_noimprovements = 0 \n",
    "        else: \n",
    "            num_noimprovements += 1\n",
    "\n",
    "        print(f'best accuracy: {best_accuracy},epoch: {i}')\n",
    "        if num_noimprovements>(stop-2):\n",
    "            print(f'existe posible sobreajuste, época: {i}')\n",
    "            return  best_model\n",
    "        \n",
    "    return best_model\n",
    "\n",
    "model_tf = SGD_epochs(x_train_tf,y_train_tf,x_val_tf,y_val_tf,100)\n",
    "predictions_tf2 = model_tf.predict(x_test_tf)\n",
    "print(f'tf accuracy: {accuracy_score(y_test_tf,predictions_tf2)}')\n",
    "model_tf.get_params()"
   ]
  },
  {
   "cell_type": "code",
   "execution_count": 27,
   "metadata": {},
   "outputs": [
    {
     "data": {
      "text/plain": [
       "{'alpha': 0.0001,\n",
       " 'average': False,\n",
       " 'class_weight': None,\n",
       " 'early_stopping': False,\n",
       " 'epsilon': 0.1,\n",
       " 'eta0': 0.0001,\n",
       " 'fit_intercept': True,\n",
       " 'l1_ratio': 0.15,\n",
       " 'learning_rate': 'constant',\n",
       " 'loss': 'log_loss',\n",
       " 'max_iter': 1000,\n",
       " 'n_iter_no_change': 5,\n",
       " 'n_jobs': None,\n",
       " 'penalty': 'l2',\n",
       " 'power_t': 0.5,\n",
       " 'random_state': None,\n",
       " 'shuffle': True,\n",
       " 'tol': 0.001,\n",
       " 'validation_fraction': 0.1,\n",
       " 'verbose': 0,\n",
       " 'warm_start': False}"
      ]
     },
     "execution_count": 27,
     "metadata": {},
     "output_type": "execute_result"
    }
   ],
   "source": [
    "model_tf.get_params()"
   ]
  }
 ],
 "metadata": {
  "kernelspec": {
   "display_name": "Python 3",
   "language": "python",
   "name": "python3"
  },
  "language_info": {
   "codemirror_mode": {
    "name": "ipython",
    "version": 3
   },
   "file_extension": ".py",
   "mimetype": "text/x-python",
   "name": "python",
   "nbconvert_exporter": "python",
   "pygments_lexer": "ipython3",
   "version": "3.12.3"
  }
 },
 "nbformat": 4,
 "nbformat_minor": 2
}
