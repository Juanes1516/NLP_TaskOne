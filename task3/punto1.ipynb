{
 "cells": [
  {
   "cell_type": "code",
   "execution_count": 67,
   "metadata": {},
   "outputs": [
    {
     "name": "stderr",
     "output_type": "stream",
     "text": [
      "[nltk_data] Downloading package stopwords to\n",
      "[nltk_data]     C:\\Users\\ASUS\\AppData\\Roaming\\nltk_data...\n",
      "[nltk_data]   Package stopwords is already up-to-date!\n"
     ]
    },
    {
     "data": {
      "text/plain": [
       "True"
      ]
     },
     "execution_count": 67,
     "metadata": {},
     "output_type": "execute_result"
    }
   ],
   "source": [
    "import os \n",
    "import re\n",
    "import pandas as pd\n",
    "import numpy as np\n",
    "import nltk\n",
    "from nltk.corpus import stopwords \n",
    "from sklearn.feature_extraction.text import CountVectorizer,TfidfVectorizer\n",
    "from sklearn.model_selection import train_test_split \n",
    "from sklearn.naive_bayes import MultinomialNB\n",
    "from sklearn.metrics import (\n",
    "    accuracy_score,\n",
    "    precision_score,\n",
    "    recall_score,\n",
    "    f1_score,\n",
    ") \n",
    "from sklearn.linear_model import SGDClassifier\n",
    "from sklearn.model_selection import GridSearchCV, cross_val_score\n",
    "stemmer = nltk.stem.SnowballStemmer('english')\n",
    "nltk.download('stopwords')"
   ]
  },
  {
   "cell_type": "markdown",
   "metadata": {},
   "source": [
    "### I. For the 20N dataset compare two classifiers NB and LR to identify the 20 different newsgroups.\n",
    "####     o Create your own processing pipeline for the task and justify it.\n",
    "####     o Divide the dataset into training (60%), validation (10%) and test (30%).\n",
    "####     o Train NB and LR using the following vector representations:\n",
    "####     ▪ tf (counts) representation (sklearn: CountVectorizer).\n",
    "####     ▪ tfidf representation (sklearn: TfidfVectorizer)."
   ]
  },
  {
   "cell_type": "code",
   "execution_count": 68,
   "metadata": {},
   "outputs": [],
   "source": [
    "path_20N = 'datasets/20news-18828/20news-18828/'"
   ]
  },
  {
   "cell_type": "code",
   "execution_count": 69,
   "metadata": {},
   "outputs": [],
   "source": [
    "def preprocess_text(text):\n",
    "    \"\"\"\n",
    "    input: text: str.\n",
    "    función para normalizar el texto ingresado, también se aplica stemming para reducir el vocabulario, como usaremos más adelante stopwords\n",
    "    puesto buscamos palabras que agregen valor semántico al texto para poder clasificar.\n",
    "    \"\"\"\n",
    "    text = text.lower()\n",
    "    ### Remover correos electrónicos\n",
    "    text = re.sub(r'[\\w\\d]+@[\\w\\d]+\\.[\\w\\d]+\\.?[\\w\\d]*\\.?[\\w\\d]*\\.?[\\w\\d]*\\.?[\\w\\d]*',' ',text)\n",
    "    #### Reemplazar números con la etiqueta NUM\n",
    "    text = re.sub(r'\\d+', 'NUM', text)\n",
    "    # Remover con un expresión regular carateres especiales (no palabras).\n",
    "    text = re.sub(r'[^\\w\\s]', ' ', str(text))\n",
    "    # remover __ \n",
    "    text = re.sub(r'_+',' ',str(text))\n",
    "    # minúsculas\n",
    "    text = text.lower()\n",
    "    # stemming\n",
    "    text = \" \".join([stemmer.stem(word) for word in text.split()])\n",
    "\n",
    "    return text"
   ]
  },
  {
   "cell_type": "code",
   "execution_count": 70,
   "metadata": {},
   "outputs": [],
   "source": [
    "def pipline_text(path20N):\n",
    "    \"\"\" \n",
    "    Con esta función se lee el dataset 20N, normalizando cada texto y entregando lista de texto Normalizada y las categorias correspondientes, donde categorias\n",
    "    es la clase de texto a la que pertenece el mismo. \n",
    "    \"\"\"\n",
    "    \n",
    "    categoria = []\n",
    "    texto = [] \n",
    "\n",
    "    for root, dirs, files in os.walk(path_20N):\n",
    "        for file in files:\n",
    "            categoria.append(root[root.rfind('/')+1:])\n",
    "            with open(os.path.join(root,file),'r',encoding='latin-1') as file: \n",
    "                text = file.read()\n",
    "                texto.append(preprocess_text(text))\n",
    "    return texto,categoria\n",
    "        \n",
    "\n",
    "textos,categorias = pipline_text(path20N=path_20N)"
   ]
  },
  {
   "cell_type": "code",
   "execution_count": 71,
   "metadata": {},
   "outputs": [],
   "source": [
    "## aplicamos la vectorización tf (term frequency)\n",
    "vectorizer_tf = CountVectorizer(max_features=4000, stop_words=stopwords.words('english') )\n",
    "texto_features_tf = vectorizer_tf.fit_transform(textos).toarray()\n",
    "#Divide the dataset into training (60%), validation (10%) and test (30%).\n",
    "x_temp_tf, x_test_tf, y_temp_tf, y_test_tf = train_test_split(texto_features_tf,categorias,test_size=0.3)\n",
    "x_train_tf, x_val_tf, y_train_tf,y_val_tf = train_test_split(x_temp_tf,y_temp_tf,test_size=0.1)"
   ]
  },
  {
   "cell_type": "code",
   "execution_count": 72,
   "metadata": {},
   "outputs": [],
   "source": [
    "## aplicamos la vectorización ( Term Frequency-Inverse Document Frequency)\n",
    "vectorizer_tfidf = TfidfVectorizer(max_features=4000, stop_words=stopwords.words('english'))\n",
    "texto_features_tfidf = vectorizer_tfidf.fit_transform(textos)\n",
    "#Divide the dataset into training (60%), validation (10%) and test (30%).\n",
    "x_temp_tfidf,x_test_tfidf,y_temp_tfidf,y_test_tfidf = train_test_split(texto_features_tfidf,categorias,test_size=0.3)\n",
    "x_train_tfidf,x_val_tfidf,y_train_tfidf,y_val_tfidf = train_test_split(x_temp_tfidf,y_temp_tfidf)"
   ]
  },
  {
   "cell_type": "markdown",
   "metadata": {},
   "source": [
    "### Train NB and LR"
   ]
  },
  {
   "cell_type": "code",
   "execution_count": 73,
   "metadata": {},
   "outputs": [
    {
     "name": "stdout",
     "output_type": "stream",
     "text": [
      "tf Naive Bayes accuracy score validation: 0.7890743550834598, params:{'alpha': 1.0, 'class_prior': None, 'fit_prior': True, 'force_alpha': True}\n",
      "tf Naive Bayes accuracy score : 0.789166224110462, params:{'alpha': 1.0, 'class_prior': None, 'fit_prior': True, 'force_alpha': True}\n",
      "tfidf Naive Bayes accuracy score validation: 0.839453717754173, params:{'alpha': 1.0, 'class_prior': None, 'fit_prior': True, 'force_alpha': True}\n",
      "tfidf Naive Bayes accuracy_score: 0.8245707204815012, params: {'alpha': 1.0, 'class_prior': None, 'fit_prior': True, 'force_alpha': True}\n"
     ]
    }
   ],
   "source": [
    "### Hacemos un entrenamiento tradicional para ver los resultados\n",
    "### y tomar este modelo como linea base de comparación\n",
    "nb_tf = MultinomialNB()\n",
    "nb_tf.fit(x_train_tf,y_train_tf)  ## \n",
    "predictions_tf_validation = nb_tf.predict(x_val_tf)  ## se evalua el comportamiento del modelo sin ver compremeter los datos de testeo\n",
    "print(f'tf Naive Bayes accuracy score validation: {accuracy_score(y_val_tf,predictions_tf_validation)}, params:{nb_tf.get_params()}')\n",
    "## pronóstico\n",
    "predictions_tf = nb_tf.predict(x_test_tf)\n",
    "print(f\"tf Naive Bayes accuracy score : {accuracy_score(y_test_tf,predictions_tf)}, params:{nb_tf.get_params()}\")\n",
    "\n",
    "nb_tfidf = MultinomialNB()\n",
    "nb_tfidf.fit(x_train_tfidf,y_train_tfidf) \n",
    "predictions_tfidf_validation = nb_tfidf.predict(x_val_tfidf)   ## se evalua el comportamiento del modelo sin ver compremeter los datos de testeo\n",
    "print(f'tfidf Naive Bayes accuracy score validation: {accuracy_score(y_val_tfidf,predictions_tfidf_validation)}, params:{nb_tf.get_params()}')\n",
    "#predicción testeo\n",
    "predictions_tfidf = nb_tfidf.predict(x_test_tfidf)\n",
    "print(f\"tfidf Naive Bayes accuracy_score: {accuracy_score(y_test_tfidf,predictions_tfidf)}, params: {nb_tfidf.get_params()}\")"
   ]
  },
  {
   "cell_type": "code",
   "execution_count": 74,
   "metadata": {},
   "outputs": [
    {
     "name": "stdout",
     "output_type": "stream",
     "text": [
      "tf accuracy_score validation: 0.7412746585735963\n",
      "tf accuracy_score: 0.7530536378120021\n",
      "tfidf accuracy_score validation: 0.7535660091047041\n",
      "tfidf accuracy_score: 0.7061426801203753\n"
     ]
    }
   ],
   "source": [
    "### Hacemos un entrenamiento tradicional para ver los resultados\n",
    "### y tomar este modelo como linea base de comparación\n",
    "logistic_model_SGD_tf = SGDClassifier(loss='log_loss', learning_rate='constant', eta0=0.0001)\n",
    "logistic_model_SGD_tf.fit(x_train_tf,y_train_tf)\n",
    "predictions_SGD_tf_validation = logistic_model_SGD_tf.predict(x_val_tf)  ## se evalua el comportamiento del modelo sin ver compremeter los datos de testeo\n",
    "print(f'tf accuracy_score validation: {accuracy_score(y_val_tf,predictions_SGD_tf_validation)}')\n",
    "#predicción testeo del modelo\n",
    "predictions_SGD_tf = logistic_model_SGD_tf.predict(x_test_tf)\n",
    "print(f'tf accuracy_score: {accuracy_score(y_test_tf,predictions_SGD_tf)}')\n",
    "\n",
    "logistic_model_SGD_tfidf = SGDClassifier(loss='log_loss', learning_rate='constant', eta0=0.0001)\n",
    "logistic_model_SGD_tfidf.fit(x_temp_tfidf,y_temp_tfidf)\n",
    "predictions_SGD_tfidf_validation = logistic_model_SGD_tfidf.predict(x_val_tfidf) ## se evalua el comportamiento del modelo sin ver compremeter los datos de testeo\n",
    "print(f'tfidf accuracy_score validation: {accuracy_score(y_val_tfidf,predictions_SGD_tfidf_validation)}')\n",
    "#predicción testeo del modelo\n",
    "predictions_SGD_tfidf = logistic_model_SGD_tfidf.predict(x_test_tfidf)\n",
    "print(f'tfidf accuracy_score: {accuracy_score(y_test_tfidf,predictions_SGD_tfidf)}')"
   ]
  },
  {
   "cell_type": "markdown",
   "metadata": {},
   "source": [
    "### Investigate cross-validation technique.\n",
    "### o Explain what the strategy consists of and what it is used for."
   ]
  },
  {
   "cell_type": "markdown",
   "metadata": {},
   "source": [
    " cross validation es un método utilizado para evaluar el rendimiento de un modelo, su principal objetivo es medir cuán bien el modelo generaliza a datos no vistos,  ya que por cada ronda de entrenamiento dentro del conjunto de entrenamiento estima las métricas seleccionadas, y como está dentro del conjunto de entrenamiento da una mejor idea de como se comportará con un conjunto de datos nuevos."
   ]
  },
  {
   "cell_type": "markdown",
   "metadata": {},
   "source": [
    "#### Procedimiento\n",
    "\n",
    "Dividir los datos de entrenamiento en \"k\" subconjuntos (particiones para ser exactos) o \"folds\", cada partición se selecciona como conjunto de prueba y se entrena con las k-1 particiones restantes, evaluando las k-1 particiones frente al conjunto de prueba con las métricas de evaluación (esto se hace k veces).\n",
    "\n",
    "Una vez completadas las k iteraciones, se calcula la media de las métricas de evaluación (como precisión, error cuadrático medio, F1-score, etc.) en cada uno de los folds."
   ]
  },
  {
   "cell_type": "markdown",
   "metadata": {},
   "source": [
    "### Compare the results of NB and LR using 10-fold cross validation\n"
   ]
  },
  {
   "cell_type": "code",
   "execution_count": 75,
   "metadata": {},
   "outputs": [],
   "source": [
    "scoring_param = ['accuracy','f1_macro', 'precision_macro', 'recall_macro','f1_micro', 'precision_micro', 'recall_micro']"
   ]
  },
  {
   "cell_type": "code",
   "execution_count": 78,
   "metadata": {},
   "outputs": [
    {
     "name": "stderr",
     "output_type": "stream",
     "text": [
      "c:\\Users\\ASUS\\AppData\\Local\\Programs\\Python\\Python39\\lib\\site-packages\\sklearn\\metrics\\_classification.py:1497: UndefinedMetricWarning: Precision is ill-defined and being set to 0.0 in labels with no predicted samples. Use `zero_division` parameter to control this behavior.\n",
      "  _warn_prf(average, modifier, f\"{metric.capitalize()} is\", len(result))\n",
      "c:\\Users\\ASUS\\AppData\\Local\\Programs\\Python\\Python39\\lib\\site-packages\\sklearn\\metrics\\_classification.py:1497: UndefinedMetricWarning: Precision is ill-defined and being set to 0.0 in labels with no predicted samples. Use `zero_division` parameter to control this behavior.\n",
      "  _warn_prf(average, modifier, f\"{metric.capitalize()} is\", len(result))\n"
     ]
    },
    {
     "name": "stdout",
     "output_type": "stream",
     "text": [
      "mejores alpha: {'alpha': 0.01}, mejor score: 0.7842316676414612\n",
      "tf cross validations accuracy_score: 0.7974862807576563\n"
     ]
    }
   ],
   "source": [
    "## para Naive Bayes buscamos el alpha más adecuado para suavizar con laplace, \n",
    "## usualmente alpha=1 y usamos el método de crosvalidation.\n",
    "grid = {'alpha':[0.001,0.01,0.1,1,10]}  # buscamos sobre estos alphas para ver cuál es mejor\n",
    "nb_tf_crossval = MultinomialNB()\n",
    "grid_search_tf_crossval = GridSearchCV(nb_tf_crossval,grid,scoring=scoring_param,refit='f1_macro',cv=10) # 10 folder y se elige f1_macro como criterio de evaluación para seleccionar alpha\n",
    "grid_search_tf_crossval.fit(x_temp_tf,y_temp_tf)  # x_temp_tf,y_temp_tf = training+validation sets.\n",
    "print(f\"mejores alpha: {grid_search_tf_crossval.best_params_}, mejor score: {grid_search_tf_crossval.best_score_}\")\n",
    "predictions_nb_tf_crossval = grid_search_tf_crossval.predict(x_test_tf)\n",
    "print(f\"tf cross validations accuracy_score: {accuracy_score(y_test_tf,predictions_nb_tf_crossval)}\")\n"
   ]
  },
  {
   "cell_type": "code",
   "execution_count": 54,
   "metadata": {},
   "outputs": [
    {
     "name": "stdout",
     "output_type": "stream",
     "text": [
      "\n",
      " mean_test_accuracy: [0.79399011 0.79664559 0.79839101 0.79277586 0.76970969]\n",
      "\n",
      " mean_test_f1_macro: [0.77643394 0.77880219 0.7803681  0.77414486 0.74616404]\n",
      "\n",
      " mean_test_precision_macro: [0.79906492 0.80165087 0.79991773 0.78978332 0.77186485]\n",
      " \n",
      " mean_test_recall_macro: [0.79212197 0.79462618 0.79639837 0.79025008 0.76313321] \n",
      "\n",
      " mean_test_f1_micro: [0.79399011 0.79664559 0.79839101 0.79277586 0.76970969]\n",
      "\n",
      " mean_test_precision_micro: [0.79399011 0.79664559 0.79839101 0.79277586 0.76970969]\n",
      " \n",
      " mean_test_recall_micro: [0.79399011 0.79664559 0.79839101 0.79277586 0.76970969] \n",
      "\n",
      " \n"
     ]
    }
   ],
   "source": [
    "results_nb_tf_cv = grid_search_tf_crossval.cv_results_\n",
    "\n",
    "### promedio de cada métrica 'accuracy','f1_macro', 'precision_macro', 'recall_macro' por cada parámetro [0.001,0.01,0.1,1,10] para el proceso de cross-validation\n",
    "### naive-bayes representación rf cross-validation\n",
    "print(f\"\"\"\n",
    " mean_test_accuracy: {results_nb_tf_cv['mean_test_accuracy']}\\n\n",
    " mean_test_f1_macro: {results_nb_tf_cv['mean_test_f1_macro']}\\n\n",
    " mean_test_precision_macro: {results_nb_tf_cv['mean_test_precision_macro']}\\n \n",
    " mean_test_recall_macro: {results_nb_tf_cv['mean_test_recall_macro']} \\n\n",
    " mean_test_f1_micro: {results_nb_tf_cv['mean_test_f1_micro']}\\n\n",
    " mean_test_precision_micro: {results_nb_tf_cv['mean_test_precision_micro']}\\n \n",
    " mean_test_recall_micro: {results_nb_tf_cv['mean_test_recall_micro']} \\n\n",
    " \"\"\")\n"
   ]
  },
  {
   "cell_type": "markdown",
   "metadata": {},
   "source": [
    "#"
   ]
  },
  {
   "cell_type": "code",
   "execution_count": 55,
   "metadata": {},
   "outputs": [
    {
     "name": "stderr",
     "output_type": "stream",
     "text": [
      "c:\\Users\\ASUS\\AppData\\Local\\Programs\\Python\\Python39\\lib\\site-packages\\sklearn\\metrics\\_classification.py:1497: UndefinedMetricWarning: Precision is ill-defined and being set to 0.0 in labels with no predicted samples. Use `zero_division` parameter to control this behavior.\n",
      "  _warn_prf(average, modifier, f\"{metric.capitalize()} is\", len(result))\n",
      "c:\\Users\\ASUS\\AppData\\Local\\Programs\\Python\\Python39\\lib\\site-packages\\sklearn\\metrics\\_classification.py:1497: UndefinedMetricWarning: Precision is ill-defined and being set to 0.0 in labels with no predicted samples. Use `zero_division` parameter to control this behavior.\n",
      "  _warn_prf(average, modifier, f\"{metric.capitalize()} is\", len(result))\n",
      "c:\\Users\\ASUS\\AppData\\Local\\Programs\\Python\\Python39\\lib\\site-packages\\sklearn\\metrics\\_classification.py:1497: UndefinedMetricWarning: Precision is ill-defined and being set to 0.0 in labels with no predicted samples. Use `zero_division` parameter to control this behavior.\n",
      "  _warn_prf(average, modifier, f\"{metric.capitalize()} is\", len(result))\n",
      "c:\\Users\\ASUS\\AppData\\Local\\Programs\\Python\\Python39\\lib\\site-packages\\sklearn\\metrics\\_classification.py:1497: UndefinedMetricWarning: Precision is ill-defined and being set to 0.0 in labels with no predicted samples. Use `zero_division` parameter to control this behavior.\n",
      "  _warn_prf(average, modifier, f\"{metric.capitalize()} is\", len(result))\n",
      "c:\\Users\\ASUS\\AppData\\Local\\Programs\\Python\\Python39\\lib\\site-packages\\sklearn\\metrics\\_classification.py:1497: UndefinedMetricWarning: Precision is ill-defined and being set to 0.0 in labels with no predicted samples. Use `zero_division` parameter to control this behavior.\n",
      "  _warn_prf(average, modifier, f\"{metric.capitalize()} is\", len(result))\n"
     ]
    },
    {
     "name": "stdout",
     "output_type": "stream",
     "text": [
      "mejores alpha: {'alpha': 0.01}, mejor score: 0.8506464046648888\n",
      "tfid cross validations accuracy_score: 0.8555496548061604\n"
     ]
    }
   ],
   "source": [
    "## para Naive Bayes buscamos el alpha más adecuado para suavizar con laplace, \n",
    "## usualmente alpha=1 y usamos el método de crosvalidation.\n",
    "grid = {'alpha':[0.001,0.01,0.1,1,10]}  # buscamos sobre estos alphas para ver cuál es mejor\n",
    "nb_tfid_crossval = MultinomialNB()\n",
    "grid_search_tfid_crossval = GridSearchCV(nb_tfid_crossval,grid,scoring=scoring_param,refit='f1_macro',cv=10) # 10 folder y se elige f1_macro como criterio de evaluación para seleccionar alpha\n",
    "grid_search_tfid_crossval.fit(x_temp_tfidf,y_temp_tfidf) # x_temp_tf,y_temp_tf = training+validation sets.\n",
    "print(f\"mejores alpha: {grid_search_tfid_crossval.best_params_}, mejor score: {grid_search_tfid_crossval.best_score_}\")\n",
    "predictions_nb_tfid_crossval = grid_search_tfid_crossval.predict(x_test_tfidf)\n",
    "print(f\"tfid cross validations accuracy_score: {accuracy_score(y_test_tfidf,predictions_nb_tfid_crossval)}\")\n",
    "\n"
   ]
  },
  {
   "cell_type": "code",
   "execution_count": 56,
   "metadata": {},
   "outputs": [
    {
     "name": "stdout",
     "output_type": "stream",
     "text": [
      "\n",
      " mean_test_accuracy: [0.84945697 0.85583101 0.85583107 0.83655783 0.78245743]\n",
      "\n",
      " mean_test_f1_macro: [0.84417685 0.8506464  0.8495023  0.82234257 0.75538335]\n",
      "\n",
      " mean_test_precision_macro: [0.85090281 0.85764957 0.8581787  0.84966326 0.80051085]\n",
      " \n",
      " mean_test_recall_macro: [0.8436377  0.84987074 0.84878959 0.82446674 0.76421295] \n",
      "\n",
      " mean_test_f1_micro: [0.84945697 0.85583101 0.85583107 0.83655783 0.78245743]\n",
      "\n",
      " mean_test_precision_micro: [0.84945697 0.85583101 0.85583107 0.83655783 0.78245743]\n",
      " \n",
      " mean_test_recall_micro: [0.84945697 0.85583101 0.85583107 0.83655783 0.78245743] \n",
      "\n",
      " \n"
     ]
    }
   ],
   "source": [
    "results_nb_tfidf_cv = grid_search_tfid_crossval.cv_results_\n",
    "\n",
    "### promedio de cada métrica 'accuracy','f1_macro', 'precision_macro', 'recall_macro' por cada parámetro [0.001,0.01,0.1,1,10] para el proceso de cross-validation\n",
    "### naive-bayes representación tfidf cross-validation\n",
    "print(f\"\"\"\n",
    " mean_test_accuracy: {results_nb_tfidf_cv['mean_test_accuracy']}\\n\n",
    " mean_test_f1_macro: {results_nb_tfidf_cv['mean_test_f1_macro']}\\n\n",
    " mean_test_precision_macro: {results_nb_tfidf_cv['mean_test_precision_macro']}\\n \n",
    " mean_test_recall_macro: {results_nb_tfidf_cv['mean_test_recall_macro']} \\n\n",
    " mean_test_f1_micro: {results_nb_tfidf_cv['mean_test_f1_micro']}\\n\n",
    " mean_test_precision_micro: {results_nb_tfidf_cv['mean_test_precision_micro']}\\n \n",
    " mean_test_recall_micro: {results_nb_tfidf_cv['mean_test_recall_micro']} \\n\n",
    " \"\"\")"
   ]
  },
  {
   "cell_type": "code",
   "execution_count": 57,
   "metadata": {},
   "outputs": [
    {
     "name": "stderr",
     "output_type": "stream",
     "text": [
      "c:\\Users\\ASUS\\AppData\\Local\\Programs\\Python\\Python39\\lib\\site-packages\\sklearn\\metrics\\_classification.py:1497: UndefinedMetricWarning: Precision is ill-defined and being set to 0.0 in labels with no predicted samples. Use `zero_division` parameter to control this behavior.\n",
      "  _warn_prf(average, modifier, f\"{metric.capitalize()} is\", len(result))\n"
     ]
    },
    {
     "name": "stdout",
     "output_type": "stream",
     "text": [
      "mejores params: {'eta0': 0.001, 'learning_rate': 'constant'}, mejor score: 0.8004635900938222\n",
      "tf score sgv crossv: 0.7735882457072049\n"
     ]
    }
   ],
   "source": [
    "param_grid_SGVclassifier = {\n",
    "    'learning_rate': ['constant'],\n",
    "    'eta0': [0.001, 0.01, 0.1, 1],  \n",
    "}\n",
    "\n",
    "sgvclas_tf_crv = SGDClassifier(loss='log_loss',max_iter=1000,tol=0.001)\n",
    "grid_search_sgvclas_tf_crv = GridSearchCV(sgvclas_tf_crv,param_grid_SGVclassifier,scoring=scoring_param,refit='f1_macro',cv=10) # 10 folder y se elige f1_macro como criterio de evaluación para seleccionar alpha\n",
    "grid_search_sgvclas_tf_crv.fit(x_temp_tf,y_temp_tf)  # x_temp_tf,y_temp_tf = training+validation sets.\n",
    "print(f'mejores params: {grid_search_sgvclas_tf_crv.best_params_}, mejor score: {grid_search_sgvclas_tf_crv.best_score_}')\n",
    "predictions_sgvclass_tf_crv = grid_search_sgvclas_tf_crv.predict(x_test_tf)\n",
    "print(f'tf score sgv crossv: {accuracy_score(y_test_tf,predictions_sgvclass_tf_crv)}')"
   ]
  },
  {
   "cell_type": "code",
   "execution_count": 58,
   "metadata": {},
   "outputs": [
    {
     "name": "stdout",
     "output_type": "stream",
     "text": [
      "\n",
      " mean_test_accuracy: [0.8040084  0.74034322 0.6464091  0.40625588]\n",
      "\n",
      " mean_test_f1_macro: [0.80046359 0.73398461 0.65426671 0.41555738]\n",
      "\n",
      " mean_test_precision_macro: [0.81593267 0.76581889 0.72962807 0.62140136]\n",
      " \n",
      " mean_test_recall_macro: [0.7998933  0.73753935 0.64397493 0.40503918] \n",
      "\n",
      " mean_test_f1_micro: [0.8040084  0.74034322 0.6464091  0.40625588]\n",
      "\n",
      " mean_test_precision_micro: [0.8040084  0.74034322 0.6464091  0.40625588]\n",
      " \n",
      " mean_test_recall_micro: [0.8040084  0.74034322 0.6464091  0.40625588] \n",
      "\n",
      " \n"
     ]
    }
   ],
   "source": [
    "results_sgvclas_tf_cv = grid_search_sgvclas_tf_crv.cv_results_\n",
    "\n",
    "### promedio de cada métrica 'accuracy','f1_macro', 'precision_macro', 'recall_macro' por cada parámetro [0.001, 0.01, 0.1, 1] para el proceso de cross-validation\n",
    "### SGD clasiffier representación tf cross-validation\n",
    "print(f\"\"\"\n",
    " mean_test_accuracy: {results_sgvclas_tf_cv['mean_test_accuracy']}\\n\n",
    " mean_test_f1_macro: {results_sgvclas_tf_cv['mean_test_f1_macro']}\\n\n",
    " mean_test_precision_macro: {results_sgvclas_tf_cv['mean_test_precision_macro']}\\n \n",
    " mean_test_recall_macro: {results_sgvclas_tf_cv['mean_test_recall_macro']} \\n\n",
    " mean_test_f1_micro: {results_sgvclas_tf_cv['mean_test_f1_micro']}\\n\n",
    " mean_test_precision_micro: {results_sgvclas_tf_cv['mean_test_precision_micro']}\\n \n",
    " mean_test_recall_micro: {results_sgvclas_tf_cv['mean_test_recall_micro']} \\n\n",
    " \"\"\")"
   ]
  },
  {
   "cell_type": "code",
   "execution_count": 59,
   "metadata": {},
   "outputs": [
    {
     "name": "stdout",
     "output_type": "stream",
     "text": [
      "mejores params: {'eta0': 1, 'learning_rate': 'constant'}, mejor score: 0.8437794456496548\n",
      "tfidf score sgv crossv: 0.8474066206408214\n"
     ]
    }
   ],
   "source": [
    "param_grid_SGVclassifier = {\n",
    "    'learning_rate': ['constant'],\n",
    "    'eta0': [0.001, 0.01, 0.1, 1],  \n",
    "}\n",
    "\n",
    "sgvclas_tfidf_crv = SGDClassifier(loss='log_loss',max_iter=1000,tol=0.001)\n",
    "grid_search_sgvclas_tfidf_crv = GridSearchCV(sgvclas_tfidf_crv,param_grid_SGVclassifier,scoring=scoring_param,refit='f1_macro',cv=10) # 10 folder y se elige f1_macro como criterio de evaluación para seleccionar alpha\n",
    "grid_search_sgvclas_tfidf_crv.fit(x_temp_tfidf,y_temp_tfidf)  # x_temp_tf,y_temp_tf = training+validation sets.\n",
    "print(f'mejores params: {grid_search_sgvclas_tfidf_crv.best_params_}, mejor score: {grid_search_sgvclas_tfidf_crv.best_score_}')\n",
    "predictions_sgvclass_tfidf_crv = grid_search_sgvclas_tfidf_crv.predict(x_test_tfidf)\n",
    "print(f'tfidf score sgv crossv: {accuracy_score(y_test_tfidf,predictions_sgvclass_tfidf_crv)}')\n"
   ]
  },
  {
   "cell_type": "code",
   "execution_count": 60,
   "metadata": {},
   "outputs": [
    {
     "name": "stdout",
     "output_type": "stream",
     "text": [
      "\n",
      " mean_test_accuracy: [0.74057256 0.82252066 0.84854696 0.84907726]\n",
      "\n",
      " mean_test_f1_macro: [0.72836632 0.81063561 0.84223263 0.84377945]\n",
      "\n",
      " mean_test_precision_macro: [0.7972828  0.83002042 0.85122207 0.85243199]\n",
      " \n",
      " mean_test_recall_macro: [0.72652516 0.8118738  0.84137424 0.84265568] \n",
      "\n",
      " mean_test_f1_micro: [0.74057256 0.82252066 0.84854696 0.84907726]\n",
      "\n",
      " mean_test_precision_micro: [0.74057256 0.82252066 0.84854696 0.84907726]\n",
      " \n",
      " mean_test_recall_micro: [0.74057256 0.82252066 0.84854696 0.84907726] \n",
      "\n",
      " \n"
     ]
    }
   ],
   "source": [
    "results_sgvclas_tfidf_cv = grid_search_sgvclas_tfidf_crv.cv_results_\n",
    "\n",
    "### promedio de cada métrica 'accuracy','f1_macro', 'precision_macro', 'recall_macro' por cada parámetro [0.001, 0.01, 0.1, 1] para el proceso de cross-validation\n",
    "### SGD classifier representación tfidf cross-validation\n",
    "print(f\"\"\"\n",
    " mean_test_accuracy: {results_sgvclas_tfidf_cv['mean_test_accuracy']}\\n\n",
    " mean_test_f1_macro: {results_sgvclas_tfidf_cv['mean_test_f1_macro']}\\n\n",
    " mean_test_precision_macro: {results_sgvclas_tfidf_cv['mean_test_precision_macro']}\\n \n",
    " mean_test_recall_macro: {results_sgvclas_tfidf_cv['mean_test_recall_macro']} \\n\n",
    " mean_test_f1_micro: {results_sgvclas_tfidf_cv['mean_test_f1_micro']}\\n\n",
    " mean_test_precision_micro: {results_sgvclas_tfidf_cv['mean_test_precision_micro']}\\n \n",
    " mean_test_recall_micro: {results_sgvclas_tfidf_cv['mean_test_recall_micro']} \\n\n",
    " \"\"\")"
   ]
  },
  {
   "cell_type": "markdown",
   "metadata": {},
   "source": [
    "### III. Evaluate models using the test set:\n",
    "### o Report precision, recall, and F1 with the micro and micro average results.\n",
    "### o What is the best model?"
   ]
  },
  {
   "cell_type": "code",
   "execution_count": 61,
   "metadata": {},
   "outputs": [],
   "source": [
    "# presicion macro\n",
    "precision_macro_nb_tf = precision_score(y_test_tf,predictions_nb_tf_crossval,average='macro')\n",
    "precision_macro_nb_tfidf = precision_score(y_test_tfidf,predictions_nb_tfid_crossval,average='macro')\n",
    "precision_macro_svgclass_tf  = precision_score(y_test_tf,predictions_sgvclass_tf_crv,average='macro')\n",
    "presicion_macro_svgclass_tfidf = precision_score(y_test_tfidf,predictions_sgvclass_tfidf_crv,average='macro')\n",
    "\n",
    "# recall macro\n",
    "recall_macro_nb_tf = recall_score(y_test_tf,predictions_nb_tf_crossval,average='macro')\n",
    "recall_macro_nb_tfidf = recall_score(y_test_tfidf,predictions_nb_tfid_crossval,average='macro')\n",
    "recall_macro_svgclass_tf = recall_score(y_test_tf,predictions_sgvclass_tf_crv,average='macro')\n",
    "recall_macro_svgclass_tfidf = recall_score(y_test_tfidf,predictions_sgvclass_tfidf_crv,average='macro')\n",
    "\n",
    "# f1 score macro\n",
    "f1score_macro_nb_tf = f1_score(y_test_tf,predictions_nb_tf_crossval,average='macro')\n",
    "f1score_macro_nb_tfidf = f1_score(y_test_tfidf,predictions_nb_tfid_crossval,average='macro')\n",
    "f1score_macro_svgclass_tf = f1_score(y_test_tf,predictions_sgvclass_tf_crv,average='macro')\n",
    "f1score_macro_svgclass_tfidf = f1_score(y_test_tfidf,predictions_sgvclass_tfidf_crv,average='macro')\n",
    "\n",
    "# presicion micro\n",
    "precision_micro_nb_tf = precision_score(y_test_tf,predictions_nb_tf_crossval,average='micro')\n",
    "precision_micro_nb_tfidf = precision_score(y_test_tfidf,predictions_nb_tfid_crossval,average='micro')\n",
    "precision_micro_svgclass_tf  = precision_score(y_test_tf,predictions_sgvclass_tf_crv,average='micro')\n",
    "presicion_micro_svgclass_tfidf = precision_score(y_test_tfidf,predictions_sgvclass_tfidf_crv,average='micro')\n",
    "\n",
    "# recall micro\n",
    "recall_micro_nb_tf = recall_score(y_test_tf,predictions_nb_tf_crossval,average='micro')\n",
    "recall_micro_nb_tfidf = recall_score(y_test_tfidf,predictions_nb_tfid_crossval,average='micro')\n",
    "recall_micro_svgclass_tf = recall_score(y_test_tf,predictions_sgvclass_tf_crv,average='micro')\n",
    "recall_micro_svgclass_tfidf = recall_score(y_test_tfidf,predictions_sgvclass_tfidf_crv,average='micro')\n",
    "\n",
    "# f1 score macro\n",
    "f1score_micro_nb_tf = f1_score(y_test_tf,predictions_nb_tf_crossval,average='micro')\n",
    "f1score_micro_nb_tfidf = f1_score(y_test_tfidf,predictions_nb_tfid_crossval,average='micro')\n",
    "f1score_micro_svgclass_tf = f1_score(y_test_tf,predictions_sgvclass_tf_crv,average='micro')\n",
    "f1score_micro_svgclass_tfidf = f1_score(y_test_tfidf,predictions_sgvclass_tfidf_crv,average='micro')\n",
    "\n"
   ]
  },
  {
   "cell_type": "code",
   "execution_count": 62,
   "metadata": {},
   "outputs": [],
   "source": [
    "results = {'precision_macro_nb_tf':precision_macro_nb_tf,\n",
    "'precision_macro_nb_tfidf':precision_macro_nb_tfidf,\n",
    "'precision_macro_svgclass_tf':precision_macro_svgclass_tf,\n",
    "'presicion_macro_svgclass_tfidf':presicion_macro_svgclass_tfidf,\n",
    "'recall_macro_nb_tf':recall_macro_nb_tf,\n",
    "'recall_macro_nb_tfidf':recall_macro_nb_tfidf,\n",
    "'recall_macro_svgclass_tf':recall_macro_svgclass_tf,\n",
    "'recall_macro_svgclass_tfidf':recall_macro_svgclass_tfidf,\n",
    "'f1score_macro_nb_tf':f1score_macro_nb_tf,\n",
    "'f1score_macro_nb_tfidf':f1score_macro_nb_tfidf,\n",
    "'f1score_macro_svgclass_tf':f1score_macro_svgclass_tf,\n",
    "'f1score_macro_svgclass_tfidf':f1score_macro_svgclass_tfidf,\n",
    "'precision_micro_nb_tf':precision_micro_nb_tf,\n",
    "'precision_micro_nb_tfidf':precision_micro_nb_tfidf,\n",
    "'precision_micro_svgclass_tf':precision_micro_svgclass_tf,\n",
    "'presicion_micro_svgclass_tfidf':presicion_micro_svgclass_tfidf,\n",
    "'recall_micro_nb_tf':recall_micro_nb_tf,\n",
    "'recall_micro_nb_tfidf':recall_micro_nb_tfidf,\n",
    "'recall_micro_svgclass_tf':recall_micro_svgclass_tf,\n",
    "'recall_micro_svgclass_tfidf':recall_micro_svgclass_tfidf,\n",
    "'f1score_micro_nb_tf':f1score_micro_nb_tf,\n",
    "'f1score_micro_nb_tfidf':f1score_micro_nb_tfidf,\n",
    "'f1score_micro_svgclass_tf':f1score_micro_svgclass_tf,\n",
    "'f1score_micro_svgclass_tfidf':f1score_micro_svgclass_tfidf,\n",
    "}"
   ]
  },
  {
   "cell_type": "code",
   "execution_count": 63,
   "metadata": {},
   "outputs": [
    {
     "name": "stdout",
     "output_type": "stream",
     "text": [
      "precision_macro_nb_tf: 0.8042972294130031\n",
      "precision_macro_nb_tfidf: 0.8520818501609814\n",
      "precision_macro_svgclass_tf: 0.7743478120296314\n",
      "presicion_macro_svgclass_tfidf: 0.8457299434955168\n",
      "recall_macro_nb_tf: 0.800935365135681\n",
      "recall_macro_nb_tfidf: 0.8475417360326691\n",
      "recall_macro_svgclass_tf: 0.7690923734274115\n",
      "recall_macro_svgclass_tfidf: 0.8368259938598703\n",
      "f1score_macro_nb_tf: 0.7860219240413978\n",
      "f1score_macro_nb_tfidf: 0.8480891404454125\n",
      "f1score_macro_svgclass_tf: 0.7588528359789202\n",
      "f1score_macro_svgclass_tfidf: 0.837684856798942\n",
      "precision_micro_nb_tf: 0.8084616746326784\n",
      "precision_micro_nb_tfidf: 0.8555496548061604\n",
      "precision_micro_svgclass_tf: 0.7735882457072049\n",
      "presicion_micro_svgclass_tfidf: 0.8474066206408214\n",
      "recall_micro_nb_tf: 0.8084616746326784\n",
      "recall_micro_nb_tfidf: 0.8555496548061604\n",
      "recall_micro_svgclass_tf: 0.7735882457072049\n",
      "recall_micro_svgclass_tfidf: 0.8474066206408214\n",
      "f1score_micro_nb_tf: 0.8084616746326784\n",
      "f1score_micro_nb_tfidf: 0.8555496548061604\n",
      "f1score_micro_svgclass_tf: 0.7735882457072049\n",
      "f1score_micro_svgclass_tfidf: 0.8474066206408214\n"
     ]
    }
   ],
   "source": [
    "for key,value in results.items(): \n",
    "    print(f'{key}: {value}')"
   ]
  },
  {
   "attachments": {
    "image.png": {
     "image/png": "[encoded data removed]"
    }
   },
   "cell_type": "markdown",
   "metadata": {},
   "source": [
    "Dado los resultados expresados en la siguiente tabla, el modelo Naive-Bayes con representación vectorial tfidf se elige como mejor modelo: \n",
    "![image.png](attachment:image.png)"
   ]
  },
  {
   "cell_type": "markdown",
   "metadata": {},
   "source": []
  }
 ],
 "metadata": {
  "kernelspec": {
   "display_name": "Python 3",
   "language": "python",
   "name": "python3"
  },
  "language_info": {
   "codemirror_mode": {
    "name": "ipython",
    "version": 3
   },
   "file_extension": ".py",
   "mimetype": "text/x-python",
   "name": "python",
   "nbconvert_exporter": "python",
   "pygments_lexer": "ipython3",
   "version": "3.9.0"
  }
 },
 "nbformat": 4,
 "nbformat_minor": 2
}
