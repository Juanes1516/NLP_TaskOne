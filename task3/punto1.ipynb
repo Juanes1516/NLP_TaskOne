{
 "cells": [
  {
   "cell_type": "code",
   "execution_count": 99,
   "metadata": {},
   "outputs": [
    {
     "name": "stderr",
     "output_type": "stream",
     "text": [
      "[nltk_data] Downloading package stopwords to\n",
      "[nltk_data]     C:\\Users\\ASUS\\AppData\\Roaming\\nltk_data...\n",
      "[nltk_data]   Package stopwords is already up-to-date!\n"
     ]
    },
    {
     "data": {
      "text/plain": [
       "True"
      ]
     },
     "execution_count": 99,
     "metadata": {},
     "output_type": "execute_result"
    }
   ],
   "source": [
    "import os \n",
    "import re\n",
    "import pandas as pd\n",
    "import nltk\n",
    "from nltk.corpus import stopwords \n",
    "from sklearn.feature_extraction.text import CountVectorizer,TfidfVectorizer\n",
    "from sklearn.model_selection import train_test_split \n",
    "from sklearn.naive_bayes import MultinomialNB\n",
    "from sklearn.metrics import accuracy_score\n",
    "\n",
    "stemmer = nltk.stem.SnowballStemmer('english')\n",
    "nltk.download('stopwords')"
   ]
  },
  {
   "cell_type": "code",
   "execution_count": 12,
   "metadata": {},
   "outputs": [],
   "source": [
    "path_20N = 'datasets/20news-18828/20news-18828/'"
   ]
  },
  {
   "cell_type": "code",
   "execution_count": 61,
   "metadata": {},
   "outputs": [],
   "source": [
    "def preprocess_text(text):\n",
    "    text = text.lower()\n",
    "    ### Remover correos electrónicos\n",
    "    text = re.sub(r'[\\w\\d]+@[\\w\\d]+\\.[\\w\\d]+\\.?[\\w\\d]*\\.?[\\w\\d]*\\.?[\\w\\d]*\\.?[\\w\\d]*',' ',text)\n",
    "    #### Reemplazar números con la etiqueta NUM\n",
    "    text = re.sub(r'\\d+', 'NUM', text)\n",
    "    # Remover con un expresión regular carateres especiales (no palabras) excepto signos de puntuación.\n",
    "    text = re.sub(r'[^\\w\\s\\.,:;\\'\\?]', ' ', str(text))\n",
    "    # remover __ \n",
    "    text = re.sub(r'_+',' ',str(text))\n",
    "    # minúsculas\n",
    "    text = text.lower()\n",
    "    # stemming\n",
    "    text = \" \".join([stemmer.stem(word) for word in text.split()])\n",
    "\n",
    "    return text"
   ]
  },
  {
   "cell_type": "code",
   "execution_count": 62,
   "metadata": {},
   "outputs": [],
   "source": [
    "def pipline_text(path20N):\n",
    "    categoria = []\n",
    "    texto = [] \n",
    "\n",
    "    for root, dirs, files in os.walk(path_20N):\n",
    "        for file in files:\n",
    "            categoria.append(root[root.rfind('/')+1:])\n",
    "            with open(os.path.join(root,file),'r',encoding='latin-1') as file: \n",
    "                text = file.read()\n",
    "                texto.append(preprocess_text(text))\n",
    "    return texto,categoria\n",
    "        \n",
    "\n",
    "textos,categorias = pipline_text(path20N=path_20N)"
   ]
  },
  {
   "cell_type": "markdown",
   "metadata": {},
   "source": [
    "# tf (counts) representation"
   ]
  },
  {
   "cell_type": "code",
   "execution_count": 63,
   "metadata": {},
   "outputs": [],
   "source": [
    "vectorizer = CountVectorizer(max_features=4000, stop_words=stopwords.words('english') )\n",
    "\n",
    "# Ahora le solicitamos utilizando nuestro conjunto de datos que construya el vocabulario y tambien transforme nuestro texto\n",
    "texto_features = vectorizer.fit_transform(textos).toarray()\n"
   ]
  },
  {
   "cell_type": "code",
   "execution_count": 85,
   "metadata": {},
   "outputs": [
    {
     "data": {
      "text/plain": [
       "18828"
      ]
     },
     "execution_count": 85,
     "metadata": {},
     "output_type": "execute_result"
    }
   ],
   "source": []
  },
  {
   "cell_type": "code",
   "execution_count": 90,
   "metadata": {},
   "outputs": [],
   "source": [
    "#Divide the dataset into training (60%), validation (10%) and test (30%).\n",
    "x_temp, x_test, y_temp, y_test = train_test_split(texto_features,categorias,test_size=0.3)\n",
    "x_train, x_val, y_train,y_val = train_test_split(x_temp,y_temp,test_size=0.1)\n"
   ]
  },
  {
   "cell_type": "markdown",
   "metadata": {},
   "source": [
    "## tfidf representation\n"
   ]
  },
  {
   "cell_type": "code",
   "execution_count": 112,
   "metadata": {},
   "outputs": [],
   "source": [
    "vectorizer_tfidf = TfidfVectorizer(max_features=4000, stop_words=stopwords.words('english'))\n",
    "texto_features_tfidf = vectorizer_tfidf.fit_transform(textos)"
   ]
  },
  {
   "cell_type": "code",
   "execution_count": 113,
   "metadata": {},
   "outputs": [],
   "source": [
    "x_temp_tfidf,x_test_tfidf,y_temp_tfidf,y_test_tfidf = train_test_split(texto_features_tfidf,categorias,test_size=0.3)\n",
    "x_train_tfidf,x_val_tfidf,y_train_tfidf,y_val_tfidf = train_test_split(x_temp_tfidf,y_temp_tfidf)"
   ]
  },
  {
   "cell_type": "markdown",
   "metadata": {},
   "source": [
    "# Naive Bayes"
   ]
  },
  {
   "cell_type": "code",
   "execution_count": 115,
   "metadata": {},
   "outputs": [
    {
     "name": "stdout",
     "output_type": "stream",
     "text": [
      "0.7511380880121397\n"
     ]
    }
   ],
   "source": [
    "nb = MultinomialNB()\n",
    "nb.fit(x_train,y_train)\n",
    "predictions = nb.predict(x_val)\n",
    "print(accuracy_score(y_val,predictions))"
   ]
  },
  {
   "cell_type": "code",
   "execution_count": 116,
   "metadata": {},
   "outputs": [
    {
     "name": "stdout",
     "output_type": "stream",
     "text": [
      "0.7987860394537177\n"
     ]
    }
   ],
   "source": [
    "nb_tfidf = MultinomialNB()\n",
    "nb_tfidf.fit(x_train_tfidf,y_train_tfidf)\n",
    "predictions_tfidf = nb_tfidf.predict(x_val_tfidf)\n",
    "print(accuracy_score(y_val_tfidf,predictions_tfidf))\n"
   ]
  }
 ],
 "metadata": {
  "kernelspec": {
   "display_name": "Python 3",
   "language": "python",
   "name": "python3"
  },
  "language_info": {
   "codemirror_mode": {
    "name": "ipython",
    "version": 3
   },
   "file_extension": ".py",
   "mimetype": "text/x-python",
   "name": "python",
   "nbconvert_exporter": "python",
   "pygments_lexer": "ipython3",
   "version": "3.9.0"
  }
 },
 "nbformat": 4,
 "nbformat_minor": 2
}
